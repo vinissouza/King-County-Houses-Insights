{
 "cells": [
  {
   "cell_type": "markdown",
   "id": "00aea0ad",
   "metadata": {},
   "source": [
    "# 4.0. Data Exploratory Analysis"
   ]
  },
  {
   "cell_type": "code",
   "execution_count": 40,
   "id": "53fc8dac",
   "metadata": {
    "ExecuteTime": {
     "end_time": "2021-11-16T14:13:35.788526Z",
     "start_time": "2021-11-16T14:13:35.783540Z"
    }
   },
   "outputs": [],
   "source": [
    "# Libraries\n",
    "import pandas as pd\n",
    "import seaborn as sns\n",
    "import warnings\n",
    "\n",
    "from IPython.core.display import HTML\n",
    "\n",
    "warnings.filterwarnings( 'ignore' )"
   ]
  },
  {
   "cell_type": "code",
   "execution_count": 41,
   "id": "234ea3cf",
   "metadata": {
    "ExecuteTime": {
     "end_time": "2021-11-16T14:13:37.052995Z",
     "start_time": "2021-11-16T14:13:37.038036Z"
    }
   },
   "outputs": [],
   "source": [
    "def jupyter_settings():\n",
    "    %matplotlib inline\n",
    "    %pylab inline\n",
    "    plt.style.use( 'bmh' )\n",
    "    plt.rcParams['figure.figsize'] = [25, 12]\n",
    "    plt.rcParams['font.size'] = 24\n",
    "    display( HTML( '<style>.container { width:100% !important; }</style>') )\n",
    "    pd.options.display.max_columns = None\n",
    "    pd.options.display.max_rows = None\n",
    "    pd.set_option( 'display.expand_frame_repr', False )\n",
    "    sns.set()"
   ]
  },
  {
   "cell_type": "code",
   "execution_count": 42,
   "id": "3cd3a974",
   "metadata": {
    "ExecuteTime": {
     "end_time": "2021-11-16T14:13:37.338484Z",
     "start_time": "2021-11-16T14:13:37.325521Z"
    }
   },
   "outputs": [
    {
     "name": "stdout",
     "output_type": "stream",
     "text": [
      "Populating the interactive namespace from numpy and matplotlib\n"
     ]
    },
    {
     "data": {
      "text/html": [
       "<style>.container { width:100% !important; }</style>"
      ],
      "text/plain": [
       "<IPython.core.display.HTML object>"
      ]
     },
     "metadata": {},
     "output_type": "display_data"
    }
   ],
   "source": [
    "jupyter_settings()"
   ]
  },
  {
   "cell_type": "code",
   "execution_count": 32,
   "id": "2da7aa12",
   "metadata": {
    "ExecuteTime": {
     "end_time": "2021-11-16T14:09:54.402589Z",
     "start_time": "2021-11-16T14:09:54.254780Z"
    }
   },
   "outputs": [],
   "source": [
    "# Load Data\n",
    "data = pd.read_csv( '../Datasets/data_feature.csv' )\n",
    "\n",
    "# Numerical Attributes\n",
    "num_attributes = data.select_dtypes( include=['int64', 'float64'] )\n",
    "\n",
    "# Categorical Attributes\n",
    "cat_attributes = data.select_dtypes( include='object' )"
   ]
  },
  {
   "cell_type": "code",
   "execution_count": 31,
   "id": "41caa301",
   "metadata": {
    "ExecuteTime": {
     "end_time": "2021-11-16T14:09:39.661687Z",
     "start_time": "2021-11-16T14:09:39.653723Z"
    }
   },
   "outputs": [
    {
     "data": {
      "text/plain": [
       "id                    int64\n",
       "date                 object\n",
       "price               float64\n",
       "bedrooms              int64\n",
       "bathrooms           float64\n",
       "sqft_lot              int64\n",
       "floors              float64\n",
       "waterfront            int64\n",
       "condition             int64\n",
       "yr_built              int64\n",
       "yr_renovated          int64\n",
       "zipcode               int64\n",
       "lat                 float64\n",
       "long                float64\n",
       "year                  int64\n",
       "year_week            object\n",
       "is_waterfront        object\n",
       "price_level          object\n",
       "status_condition     object\n",
       "renovated            object\n",
       "price/m2            float64\n",
       "road                 object\n",
       "house_number         object\n",
       "neighbourhood        object\n",
       "postcode             object\n",
       "city                 object\n",
       "state                object\n",
       "dtype: object"
      ]
     },
     "execution_count": 31,
     "metadata": {},
     "output_type": "execute_result"
    }
   ],
   "source": [
    "data.dtypes"
   ]
  },
  {
   "cell_type": "code",
   "execution_count": 33,
   "id": "8121a185",
   "metadata": {
    "ExecuteTime": {
     "end_time": "2021-11-16T14:09:59.671477Z",
     "start_time": "2021-11-16T14:09:59.646581Z"
    }
   },
   "outputs": [
    {
     "data": {
      "text/html": [
       "<div>\n",
       "<style scoped>\n",
       "    .dataframe tbody tr th:only-of-type {\n",
       "        vertical-align: middle;\n",
       "    }\n",
       "\n",
       "    .dataframe tbody tr th {\n",
       "        vertical-align: top;\n",
       "    }\n",
       "\n",
       "    .dataframe thead th {\n",
       "        text-align: right;\n",
       "    }\n",
       "</style>\n",
       "<table border=\"1\" class=\"dataframe\">\n",
       "  <thead>\n",
       "    <tr style=\"text-align: right;\">\n",
       "      <th></th>\n",
       "      <th>date</th>\n",
       "      <th>year_week</th>\n",
       "      <th>is_waterfront</th>\n",
       "      <th>price_level</th>\n",
       "      <th>status_condition</th>\n",
       "      <th>renovated</th>\n",
       "      <th>road</th>\n",
       "      <th>house_number</th>\n",
       "      <th>neighbourhood</th>\n",
       "      <th>postcode</th>\n",
       "      <th>city</th>\n",
       "      <th>state</th>\n",
       "    </tr>\n",
       "  </thead>\n",
       "  <tbody>\n",
       "    <tr>\n",
       "      <th>0</th>\n",
       "      <td>20141013T000000</td>\n",
       "      <td>2014-41</td>\n",
       "      <td>no</td>\n",
       "      <td>level_one</td>\n",
       "      <td>regular</td>\n",
       "      <td>no</td>\n",
       "      <td>61st Avenue South</td>\n",
       "      <td>10012</td>\n",
       "      <td>Rainier Beach</td>\n",
       "      <td>98178</td>\n",
       "      <td>Seattle</td>\n",
       "      <td>Washington</td>\n",
       "    </tr>\n",
       "    <tr>\n",
       "      <th>1</th>\n",
       "      <td>20141209T000000</td>\n",
       "      <td>2014-49</td>\n",
       "      <td>no</td>\n",
       "      <td>level_three</td>\n",
       "      <td>regular</td>\n",
       "      <td>yes</td>\n",
       "      <td>Northeast 127th Street</td>\n",
       "      <td>837</td>\n",
       "      <td>NaN</td>\n",
       "      <td>98125</td>\n",
       "      <td>Seattle</td>\n",
       "      <td>Washington</td>\n",
       "    </tr>\n",
       "    <tr>\n",
       "      <th>2</th>\n",
       "      <td>20150225T000000</td>\n",
       "      <td>2015-08</td>\n",
       "      <td>no</td>\n",
       "      <td>level_one</td>\n",
       "      <td>regular</td>\n",
       "      <td>no</td>\n",
       "      <td>81st Avenue Northeast</td>\n",
       "      <td>15109</td>\n",
       "      <td>NaN</td>\n",
       "      <td>98028</td>\n",
       "      <td>NaN</td>\n",
       "      <td>Washington</td>\n",
       "    </tr>\n",
       "    <tr>\n",
       "      <th>3</th>\n",
       "      <td>20141209T000000</td>\n",
       "      <td>2014-49</td>\n",
       "      <td>no</td>\n",
       "      <td>level_three</td>\n",
       "      <td>excelent</td>\n",
       "      <td>no</td>\n",
       "      <td>Fauntleroy Way Southwest</td>\n",
       "      <td>9236</td>\n",
       "      <td>NaN</td>\n",
       "      <td>98136</td>\n",
       "      <td>Seattle</td>\n",
       "      <td>Washington</td>\n",
       "    </tr>\n",
       "    <tr>\n",
       "      <th>4</th>\n",
       "      <td>20150218T000000</td>\n",
       "      <td>2015-07</td>\n",
       "      <td>no</td>\n",
       "      <td>level_three</td>\n",
       "      <td>regular</td>\n",
       "      <td>no</td>\n",
       "      <td>221st Avenue Northeast</td>\n",
       "      <td>923</td>\n",
       "      <td>NaN</td>\n",
       "      <td>98074</td>\n",
       "      <td>NaN</td>\n",
       "      <td>Washington</td>\n",
       "    </tr>\n",
       "    <tr>\n",
       "      <th>...</th>\n",
       "      <td>...</td>\n",
       "      <td>...</td>\n",
       "      <td>...</td>\n",
       "      <td>...</td>\n",
       "      <td>...</td>\n",
       "      <td>...</td>\n",
       "      <td>...</td>\n",
       "      <td>...</td>\n",
       "      <td>...</td>\n",
       "      <td>...</td>\n",
       "      <td>...</td>\n",
       "      <td>...</td>\n",
       "    </tr>\n",
       "    <tr>\n",
       "      <th>21607</th>\n",
       "      <td>20140521T000000</td>\n",
       "      <td>2014-20</td>\n",
       "      <td>no</td>\n",
       "      <td>level_two</td>\n",
       "      <td>regular</td>\n",
       "      <td>no</td>\n",
       "      <td>North 97th Street</td>\n",
       "      <td>927</td>\n",
       "      <td>Licton Springs</td>\n",
       "      <td>98103</td>\n",
       "      <td>Seattle</td>\n",
       "      <td>Washington</td>\n",
       "    </tr>\n",
       "    <tr>\n",
       "      <th>21608</th>\n",
       "      <td>20150223T000000</td>\n",
       "      <td>2015-08</td>\n",
       "      <td>no</td>\n",
       "      <td>level_two</td>\n",
       "      <td>regular</td>\n",
       "      <td>no</td>\n",
       "      <td>Southwest 103rd Place</td>\n",
       "      <td>2211</td>\n",
       "      <td>NaN</td>\n",
       "      <td>98146</td>\n",
       "      <td>Seattle</td>\n",
       "      <td>Washington</td>\n",
       "    </tr>\n",
       "    <tr>\n",
       "      <th>21609</th>\n",
       "      <td>20140623T000000</td>\n",
       "      <td>2014-25</td>\n",
       "      <td>no</td>\n",
       "      <td>level_two</td>\n",
       "      <td>regular</td>\n",
       "      <td>no</td>\n",
       "      <td>26th Avenue South</td>\n",
       "      <td>902</td>\n",
       "      <td>NaN</td>\n",
       "      <td>98144</td>\n",
       "      <td>Seattle</td>\n",
       "      <td>Washington</td>\n",
       "    </tr>\n",
       "    <tr>\n",
       "      <th>21610</th>\n",
       "      <td>20150116T000000</td>\n",
       "      <td>2015-02</td>\n",
       "      <td>no</td>\n",
       "      <td>level_two</td>\n",
       "      <td>regular</td>\n",
       "      <td>no</td>\n",
       "      <td>Northwest Boulder Way Drive</td>\n",
       "      <td>2136</td>\n",
       "      <td>NaN</td>\n",
       "      <td>98027</td>\n",
       "      <td>NaN</td>\n",
       "      <td>Washington</td>\n",
       "    </tr>\n",
       "    <tr>\n",
       "      <th>21611</th>\n",
       "      <td>20141015T000000</td>\n",
       "      <td>2014-41</td>\n",
       "      <td>no</td>\n",
       "      <td>level_two</td>\n",
       "      <td>regular</td>\n",
       "      <td>no</td>\n",
       "      <td>26th Avenue South</td>\n",
       "      <td>916</td>\n",
       "      <td>NaN</td>\n",
       "      <td>98144</td>\n",
       "      <td>Seattle</td>\n",
       "      <td>Washington</td>\n",
       "    </tr>\n",
       "  </tbody>\n",
       "</table>\n",
       "<p>21612 rows × 12 columns</p>\n",
       "</div>"
      ],
      "text/plain": [
       "                  date year_week is_waterfront  price_level status_condition  \\\n",
       "0      20141013T000000   2014-41            no    level_one          regular   \n",
       "1      20141209T000000   2014-49            no  level_three          regular   \n",
       "2      20150225T000000   2015-08            no    level_one          regular   \n",
       "3      20141209T000000   2014-49            no  level_three         excelent   \n",
       "4      20150218T000000   2015-07            no  level_three          regular   \n",
       "...                ...       ...           ...          ...              ...   \n",
       "21607  20140521T000000   2014-20            no    level_two          regular   \n",
       "21608  20150223T000000   2015-08            no    level_two          regular   \n",
       "21609  20140623T000000   2014-25            no    level_two          regular   \n",
       "21610  20150116T000000   2015-02            no    level_two          regular   \n",
       "21611  20141015T000000   2014-41            no    level_two          regular   \n",
       "\n",
       "      renovated                         road house_number   neighbourhood  \\\n",
       "0            no            61st Avenue South        10012   Rainier Beach   \n",
       "1           yes       Northeast 127th Street          837             NaN   \n",
       "2            no        81st Avenue Northeast        15109             NaN   \n",
       "3            no     Fauntleroy Way Southwest         9236             NaN   \n",
       "4            no       221st Avenue Northeast          923             NaN   \n",
       "...         ...                          ...          ...             ...   \n",
       "21607        no            North 97th Street          927  Licton Springs   \n",
       "21608        no        Southwest 103rd Place         2211             NaN   \n",
       "21609        no            26th Avenue South          902             NaN   \n",
       "21610        no  Northwest Boulder Way Drive         2136             NaN   \n",
       "21611        no            26th Avenue South          916             NaN   \n",
       "\n",
       "      postcode     city       state  \n",
       "0        98178  Seattle  Washington  \n",
       "1        98125  Seattle  Washington  \n",
       "2        98028      NaN  Washington  \n",
       "3        98136  Seattle  Washington  \n",
       "4        98074      NaN  Washington  \n",
       "...        ...      ...         ...  \n",
       "21607    98103  Seattle  Washington  \n",
       "21608    98146  Seattle  Washington  \n",
       "21609    98144  Seattle  Washington  \n",
       "21610    98027      NaN  Washington  \n",
       "21611    98144  Seattle  Washington  \n",
       "\n",
       "[21612 rows x 12 columns]"
      ]
     },
     "execution_count": 33,
     "metadata": {},
     "output_type": "execute_result"
    }
   ],
   "source": [
    "cat_attributes"
   ]
  },
  {
   "cell_type": "code",
   "execution_count": null,
   "id": "558f30ba",
   "metadata": {},
   "outputs": [],
   "source": [
    "# Change Types\n"
   ]
  },
  {
   "cell_type": "markdown",
   "id": "5a95a603",
   "metadata": {},
   "source": [
    "## 4.1. Univariate Analysis"
   ]
  },
  {
   "cell_type": "markdown",
   "id": "ef0e79bf",
   "metadata": {},
   "source": [
    "### 4.1.3. Response Variable"
   ]
  },
  {
   "cell_type": "code",
   "execution_count": 19,
   "id": "a72593cc",
   "metadata": {
    "ExecuteTime": {
     "end_time": "2021-11-16T13:56:38.182866Z",
     "start_time": "2021-11-16T13:56:37.719108Z"
    }
   },
   "outputs": [
    {
     "data": {
      "text/plain": [
       "<AxesSubplot:xlabel='price'>"
      ]
     },
     "execution_count": 19,
     "metadata": {},
     "output_type": "execute_result"
    },
    {
     "data": {
      "image/png": "[encoded data removed]",
      "text/plain": [
       "<Figure size 432x288 with 1 Axes>"
      ]
     },
     "metadata": {
      "needs_background": "light"
     },
     "output_type": "display_data"
    }
   ],
   "source": [
    "sns.distplot( data['price'], kde=False )"
   ]
  },
  {
   "cell_type": "markdown",
   "id": "3261ac14",
   "metadata": {},
   "source": [
    "### 4.1.2. Numerical Variable"
   ]
  },
  {
   "cell_type": "code",
   "execution_count": 43,
   "id": "23d7173c",
   "metadata": {
    "ExecuteTime": {
     "end_time": "2021-11-16T14:13:45.260981Z",
     "start_time": "2021-11-16T14:13:41.805891Z"
    }
   },
   "outputs": [
    {
     "data": {
      "image/png": "[encoded data removed]",
      "text/plain": [
       "<Figure size 1800x864 with 16 Axes>"
      ]
     },
     "metadata": {},
     "output_type": "display_data"
    }
   ],
   "source": [
    "num_attributes.hist( bins=25 );"
   ]
  },
  {
   "cell_type": "markdown",
   "id": "8e593897",
   "metadata": {},
   "source": [
    "### 4.1.3. Categorical Variable"
   ]
  },
  {
   "cell_type": "markdown",
   "id": "c4fe1994",
   "metadata": {
    "ExecuteTime": {
     "end_time": "2021-11-16T13:59:27.274307Z",
     "start_time": "2021-11-16T13:59:27.269319Z"
    }
   },
   "source": [
    "## 4.2. Bivariate Analysis"
   ]
  },
  {
   "cell_type": "code",
   "execution_count": null,
   "id": "2efef09b",
   "metadata": {},
   "outputs": [],
   "source": []
  },
  {
   "cell_type": "code",
   "execution_count": null,
   "id": "ebad334e",
   "metadata": {},
   "outputs": [],
   "source": []
  },
  {
   "cell_type": "code",
   "execution_count": null,
   "id": "39fdad05",
   "metadata": {},
   "outputs": [],
   "source": []
  },
  {
   "cell_type": "markdown",
   "id": "248db5a2",
   "metadata": {},
   "source": [
    "## 4.3. Multivariate Analysis"
   ]
  },
  {
   "cell_type": "code",
   "execution_count": null,
   "id": "d1e07324",
   "metadata": {},
   "outputs": [],
   "source": []
  },
  {
   "cell_type": "code",
   "execution_count": null,
   "id": "e458f0cd",
   "metadata": {},
   "outputs": [],
   "source": []
  },
  {
   "cell_type": "code",
   "execution_count": null,
   "id": "43765620",
   "metadata": {},
   "outputs": [],
   "source": []
  },
  {
   "cell_type": "code",
   "execution_count": null,
   "id": "65668f83",
   "metadata": {},
   "outputs": [],
   "source": []
  }
 ],
 "metadata": {
  "kernelspec": {
   "display_name": "Python 3 (ipykernel)",
   "language": "python",
   "name": "python3"
  },
  "language_info": {
   "codemirror_mode": {
    "name": "ipython",
    "version": 3
   },
   "file_extension": ".py",
   "mimetype": "text/x-python",
   "name": "python",
   "nbconvert_exporter": "python",
   "pygments_lexer": "ipython3",
   "version": "3.8.11"
  }
 },
 "nbformat": 4,
 "nbformat_minor": 5
}
