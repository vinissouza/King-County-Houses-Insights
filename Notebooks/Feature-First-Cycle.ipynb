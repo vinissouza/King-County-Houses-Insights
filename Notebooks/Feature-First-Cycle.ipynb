{
 "cells": [
  {
   "cell_type": "markdown",
   "id": "69af492f",
   "metadata": {},
   "source": [
    "# 0.0 Imports"
   ]
  },
  {
   "cell_type": "code",
   "execution_count": null,
   "id": "bdc13ccf",
   "metadata": {},
   "outputs": [],
   "source": []
  },
  {
   "cell_type": "markdown",
   "id": "4a32364c",
   "metadata": {
    "ExecuteTime": {
     "end_time": "2022-01-25T13:56:03.885741Z",
     "start_time": "2022-01-25T13:56:03.874740Z"
    }
   },
   "source": [
    "# 1.0 Data Description"
   ]
  },
  {
   "cell_type": "code",
   "execution_count": null,
   "id": "6bf4f65f",
   "metadata": {},
   "outputs": [],
   "source": []
  },
  {
   "cell_type": "markdown",
   "id": "9c39a282",
   "metadata": {
    "ExecuteTime": {
     "end_time": "2022-01-25T13:57:05.052710Z",
     "start_time": "2022-01-25T13:57:05.044711Z"
    }
   },
   "source": [
    "# 2.0 Data Exploratory Analysis"
   ]
  },
  {
   "cell_type": "code",
   "execution_count": null,
   "id": "360e7f38",
   "metadata": {},
   "outputs": [],
   "source": []
  },
  {
   "cell_type": "markdown",
   "id": "a152dad4",
   "metadata": {
    "ExecuteTime": {
     "end_time": "2022-01-25T13:57:23.737807Z",
     "start_time": "2022-01-25T13:57:23.732810Z"
    }
   },
   "source": [
    "# 3.0 Data Filtering"
   ]
  },
  {
   "cell_type": "code",
   "execution_count": null,
   "id": "267870be",
   "metadata": {},
   "outputs": [],
   "source": []
  },
  {
   "cell_type": "markdown",
   "id": "d4628b80",
   "metadata": {
    "ExecuteTime": {
     "end_time": "2022-01-25T13:57:33.536780Z",
     "start_time": "2022-01-25T13:57:33.532840Z"
    }
   },
   "source": [
    "# 4.0 Data Transform"
   ]
  },
  {
   "cell_type": "code",
   "execution_count": null,
   "id": "2242eeb0",
   "metadata": {},
   "outputs": [],
   "source": []
  },
  {
   "cell_type": "markdown",
   "id": "ed47b729",
   "metadata": {
    "ExecuteTime": {
     "end_time": "2022-01-25T13:57:51.049225Z",
     "start_time": "2022-01-25T13:57:51.045222Z"
    }
   },
   "source": [
    "# 5.0 Feature Engineering"
   ]
  },
  {
   "cell_type": "code",
   "execution_count": null,
   "id": "a98be440",
   "metadata": {},
   "outputs": [],
   "source": []
  },
  {
   "cell_type": "code",
   "execution_count": null,
   "id": "ac4728a4",
   "metadata": {},
   "outputs": [],
   "source": []
  },
  {
   "cell_type": "code",
   "execution_count": null,
   "id": "04ae3638",
   "metadata": {},
   "outputs": [],
   "source": []
  },
  {
   "cell_type": "code",
   "execution_count": null,
   "id": "0a62d4df",
   "metadata": {},
   "outputs": [],
   "source": []
  }
 ],
 "metadata": {
  "kernelspec": {
   "display_name": "Python 3 (ipykernel)",
   "language": "python",
   "name": "python3"
  },
  "language_info": {
   "codemirror_mode": {
    "name": "ipython",
    "version": 3
   },
   "file_extension": ".py",
   "mimetype": "text/x-python",
   "name": "python",
   "nbconvert_exporter": "python",
   "pygments_lexer": "ipython3",
   "version": "3.8.11"
  }
 },
 "nbformat": 4,
 "nbformat_minor": 5
}
