{
 "cells": [
  {
   "cell_type": "markdown",
   "id": "60cf4af5",
   "metadata": {},
   "source": [
    "# 0.0 Imports"
   ]
  },
  {
   "cell_type": "code",
   "execution_count": null,
   "id": "84c26256",
   "metadata": {},
   "outputs": [],
   "source": []
  },
  {
   "cell_type": "markdown",
   "id": "f15937a2",
   "metadata": {
    "ExecuteTime": {
     "end_time": "2022-01-25T13:56:03.885741Z",
     "start_time": "2022-01-25T13:56:03.874740Z"
    }
   },
   "source": [
    "# 1.0 Data Description"
   ]
  },
  {
   "cell_type": "code",
   "execution_count": null,
   "id": "0741fbba",
   "metadata": {},
   "outputs": [],
   "source": []
  },
  {
   "cell_type": "markdown",
   "id": "abb82872",
   "metadata": {
    "ExecuteTime": {
     "end_time": "2022-01-25T13:57:05.052710Z",
     "start_time": "2022-01-25T13:57:05.044711Z"
    }
   },
   "source": [
    "# 2.0 Data Exploratory Analysis"
   ]
  },
  {
   "cell_type": "code",
   "execution_count": null,
   "id": "44794318",
   "metadata": {},
   "outputs": [],
   "source": []
  },
  {
   "cell_type": "markdown",
   "id": "53b044e0",
   "metadata": {
    "ExecuteTime": {
     "end_time": "2022-01-25T13:57:23.737807Z",
     "start_time": "2022-01-25T13:57:23.732810Z"
    }
   },
   "source": [
    "# 3.0 Data Filtering"
   ]
  },
  {
   "cell_type": "code",
   "execution_count": null,
   "id": "598d1ce0",
   "metadata": {},
   "outputs": [],
   "source": []
  },
  {
   "cell_type": "markdown",
   "id": "6c545752",
   "metadata": {
    "ExecuteTime": {
     "end_time": "2022-01-25T13:57:33.536780Z",
     "start_time": "2022-01-25T13:57:33.532840Z"
    }
   },
   "source": [
    "# 4.0 Data Transform"
   ]
  },
  {
   "cell_type": "code",
   "execution_count": null,
   "id": "35c6dd54",
   "metadata": {},
   "outputs": [],
   "source": []
  },
  {
   "cell_type": "markdown",
   "id": "934e2a61",
   "metadata": {
    "ExecuteTime": {
     "end_time": "2022-01-25T13:57:51.049225Z",
     "start_time": "2022-01-25T13:57:51.045222Z"
    }
   },
   "source": [
    "# 5.0 Feature Engineering"
   ]
  },
  {
   "cell_type": "code",
   "execution_count": null,
   "id": "fe56b6c0",
   "metadata": {},
   "outputs": [],
   "source": []
  },
  {
   "cell_type": "code",
   "execution_count": null,
   "id": "c0c8761d",
   "metadata": {},
   "outputs": [],
   "source": []
  },
  {
   "cell_type": "code",
   "execution_count": null,
   "id": "feec72df",
   "metadata": {},
   "outputs": [],
   "source": []
  },
  {
   "cell_type": "code",
   "execution_count": null,
   "id": "7ad3760d",
   "metadata": {},
   "outputs": [],
   "source": []
  }
 ],
 "metadata": {
  "kernelspec": {
   "display_name": "Python 3 (ipykernel)",
   "language": "python",
   "name": "python3"
  },
  "language_info": {
   "codemirror_mode": {
    "name": "ipython",
    "version": 3
   },
   "file_extension": ".py",
   "mimetype": "text/x-python",
   "name": "python",
   "nbconvert_exporter": "python",
   "pygments_lexer": "ipython3",
   "version": "3.8.11"
  }
 },
 "nbformat": 4,
 "nbformat_minor": 5
}
