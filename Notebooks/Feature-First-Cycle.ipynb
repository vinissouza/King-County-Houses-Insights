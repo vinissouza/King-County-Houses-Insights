{
 "cells": [
  {
   "cell_type": "markdown",
   "id": "69af492f",
   "metadata": {},
   "source": [
    "# 0.0 Imports"
   ]
  },
  {
   "cell_type": "code",
   "execution_count": 1,
   "id": "bdc13ccf",
   "metadata": {
    "ExecuteTime": {
     "end_time": "2022-01-27T02:39:54.952830Z",
     "start_time": "2022-01-27T02:39:45.766743Z"
    }
   },
   "outputs": [],
   "source": [
    "import numpy          as np\n",
    "import pandas         as pd\n",
    "import seaborn        as sns\n",
    "import warnings\n",
    "import plotly.express as px\n",
    "\n",
    "from matplotlib           import pyplot    as plt\n",
    "from matplotlib           import gridspec\n",
    "from IPython.display      import display\n",
    "from IPython.core.display import HTML\n",
    "\n",
    "warnings.filterwarnings( 'ignore' )\n",
    "pd.set_option('display.float_format', lambda x: '%.2f' % x)"
   ]
  },
  {
   "cell_type": "markdown",
   "id": "f668521e",
   "metadata": {
    "ExecuteTime": {
     "end_time": "2022-01-25T15:56:31.845588Z",
     "start_time": "2022-01-25T15:56:31.830598Z"
    }
   },
   "source": [
    "## 0.1 Load Data"
   ]
  },
  {
   "cell_type": "code",
   "execution_count": 2,
   "id": "1eccd861",
   "metadata": {
    "ExecuteTime": {
     "end_time": "2022-01-27T02:39:56.925433Z",
     "start_time": "2022-01-27T02:39:56.828403Z"
    }
   },
   "outputs": [],
   "source": [
    "data = pd.read_csv('../Datasets/kc_house_data.csv')"
   ]
  },
  {
   "cell_type": "markdown",
   "id": "fcebf1a0",
   "metadata": {},
   "source": [
    "## 0.2 Auxiliar Functions"
   ]
  },
  {
   "cell_type": "code",
   "execution_count": 3,
   "id": "bb89b3b8",
   "metadata": {
    "ExecuteTime": {
     "end_time": "2022-01-27T02:40:05.024809Z",
     "start_time": "2022-01-27T02:40:04.996850Z"
    }
   },
   "outputs": [],
   "source": [
    "def jupyter_settings():\n",
    "    %matplotlib inline\n",
    "    %pylab inline\n",
    "    plt.style.use( 'bmh' )\n",
    "    plt.rcParams['figure.figsize'] = [25, 12]\n",
    "    plt.rcParams['font.size'] = 24\n",
    "    display( HTML( '<style>.container { width:100% !important; }</style>') )\n",
    "    pd.options.display.max_columns = None\n",
    "    pd.options.display.max_rows = None\n",
    "    pd.set_option( 'display.expand_frame_repr', False )\n",
    "    sns.set()"
   ]
  },
  {
   "cell_type": "code",
   "execution_count": 4,
   "id": "9b8c06c5",
   "metadata": {
    "ExecuteTime": {
     "end_time": "2022-01-27T02:40:05.608160Z",
     "start_time": "2022-01-27T02:40:05.505859Z"
    }
   },
   "outputs": [
    {
     "name": "stdout",
     "output_type": "stream",
     "text": [
      "Populating the interactive namespace from numpy and matplotlib\n"
     ]
    },
    {
     "data": {
      "text/html": [
       "<style>.container { width:100% !important; }</style>"
      ],
      "text/plain": [
       "<IPython.core.display.HTML object>"
      ]
     },
     "metadata": {},
     "output_type": "display_data"
    }
   ],
   "source": [
    "jupyter_settings()"
   ]
  },
  {
   "cell_type": "markdown",
   "id": "4a32364c",
   "metadata": {
    "ExecuteTime": {
     "end_time": "2022-01-25T13:56:03.885741Z",
     "start_time": "2022-01-25T13:56:03.874740Z"
    }
   },
   "source": [
    "# 1.0 Data Description"
   ]
  },
  {
   "cell_type": "code",
   "execution_count": 10,
   "id": "6bf4f65f",
   "metadata": {
    "ExecuteTime": {
     "end_time": "2022-01-27T02:42:00.476069Z",
     "start_time": "2022-01-27T02:42:00.438521Z"
    }
   },
   "outputs": [
    {
     "data": {
      "text/html": [
       "<div>\n",
       "<style scoped>\n",
       "    .dataframe tbody tr th:only-of-type {\n",
       "        vertical-align: middle;\n",
       "    }\n",
       "\n",
       "    .dataframe tbody tr th {\n",
       "        vertical-align: top;\n",
       "    }\n",
       "\n",
       "    .dataframe thead th {\n",
       "        text-align: right;\n",
       "    }\n",
       "</style>\n",
       "<table border=\"1\" class=\"dataframe\">\n",
       "  <thead>\n",
       "    <tr style=\"text-align: right;\">\n",
       "      <th></th>\n",
       "      <th>id</th>\n",
       "      <th>date</th>\n",
       "      <th>price</th>\n",
       "      <th>bedrooms</th>\n",
       "      <th>bathrooms</th>\n",
       "      <th>sqft_living</th>\n",
       "      <th>sqft_lot</th>\n",
       "      <th>floors</th>\n",
       "      <th>waterfront</th>\n",
       "      <th>view</th>\n",
       "      <th>condition</th>\n",
       "      <th>grade</th>\n",
       "      <th>sqft_above</th>\n",
       "      <th>sqft_basement</th>\n",
       "      <th>yr_built</th>\n",
       "      <th>yr_renovated</th>\n",
       "      <th>zipcode</th>\n",
       "      <th>lat</th>\n",
       "      <th>long</th>\n",
       "      <th>sqft_living15</th>\n",
       "      <th>sqft_lot15</th>\n",
       "    </tr>\n",
       "  </thead>\n",
       "  <tbody>\n",
       "    <tr>\n",
       "      <th>0</th>\n",
       "      <td>7129300520</td>\n",
       "      <td>20141013T000000</td>\n",
       "      <td>221900.00</td>\n",
       "      <td>3</td>\n",
       "      <td>1.00</td>\n",
       "      <td>1180</td>\n",
       "      <td>5650</td>\n",
       "      <td>1.00</td>\n",
       "      <td>0</td>\n",
       "      <td>0</td>\n",
       "      <td>3</td>\n",
       "      <td>7</td>\n",
       "      <td>1180</td>\n",
       "      <td>0</td>\n",
       "      <td>1955</td>\n",
       "      <td>0</td>\n",
       "      <td>98178</td>\n",
       "      <td>47.51</td>\n",
       "      <td>-122.26</td>\n",
       "      <td>1340</td>\n",
       "      <td>5650</td>\n",
       "    </tr>\n",
       "    <tr>\n",
       "      <th>1</th>\n",
       "      <td>6414100192</td>\n",
       "      <td>20141209T000000</td>\n",
       "      <td>538000.00</td>\n",
       "      <td>3</td>\n",
       "      <td>2.25</td>\n",
       "      <td>2570</td>\n",
       "      <td>7242</td>\n",
       "      <td>2.00</td>\n",
       "      <td>0</td>\n",
       "      <td>0</td>\n",
       "      <td>3</td>\n",
       "      <td>7</td>\n",
       "      <td>2170</td>\n",
       "      <td>400</td>\n",
       "      <td>1951</td>\n",
       "      <td>1991</td>\n",
       "      <td>98125</td>\n",
       "      <td>47.72</td>\n",
       "      <td>-122.32</td>\n",
       "      <td>1690</td>\n",
       "      <td>7639</td>\n",
       "    </tr>\n",
       "    <tr>\n",
       "      <th>2</th>\n",
       "      <td>5631500400</td>\n",
       "      <td>20150225T000000</td>\n",
       "      <td>180000.00</td>\n",
       "      <td>2</td>\n",
       "      <td>1.00</td>\n",
       "      <td>770</td>\n",
       "      <td>10000</td>\n",
       "      <td>1.00</td>\n",
       "      <td>0</td>\n",
       "      <td>0</td>\n",
       "      <td>3</td>\n",
       "      <td>6</td>\n",
       "      <td>770</td>\n",
       "      <td>0</td>\n",
       "      <td>1933</td>\n",
       "      <td>0</td>\n",
       "      <td>98028</td>\n",
       "      <td>47.74</td>\n",
       "      <td>-122.23</td>\n",
       "      <td>2720</td>\n",
       "      <td>8062</td>\n",
       "    </tr>\n",
       "    <tr>\n",
       "      <th>3</th>\n",
       "      <td>2487200875</td>\n",
       "      <td>20141209T000000</td>\n",
       "      <td>604000.00</td>\n",
       "      <td>4</td>\n",
       "      <td>3.00</td>\n",
       "      <td>1960</td>\n",
       "      <td>5000</td>\n",
       "      <td>1.00</td>\n",
       "      <td>0</td>\n",
       "      <td>0</td>\n",
       "      <td>5</td>\n",
       "      <td>7</td>\n",
       "      <td>1050</td>\n",
       "      <td>910</td>\n",
       "      <td>1965</td>\n",
       "      <td>0</td>\n",
       "      <td>98136</td>\n",
       "      <td>47.52</td>\n",
       "      <td>-122.39</td>\n",
       "      <td>1360</td>\n",
       "      <td>5000</td>\n",
       "    </tr>\n",
       "    <tr>\n",
       "      <th>4</th>\n",
       "      <td>1954400510</td>\n",
       "      <td>20150218T000000</td>\n",
       "      <td>510000.00</td>\n",
       "      <td>3</td>\n",
       "      <td>2.00</td>\n",
       "      <td>1680</td>\n",
       "      <td>8080</td>\n",
       "      <td>1.00</td>\n",
       "      <td>0</td>\n",
       "      <td>0</td>\n",
       "      <td>3</td>\n",
       "      <td>8</td>\n",
       "      <td>1680</td>\n",
       "      <td>0</td>\n",
       "      <td>1987</td>\n",
       "      <td>0</td>\n",
       "      <td>98074</td>\n",
       "      <td>47.62</td>\n",
       "      <td>-122.05</td>\n",
       "      <td>1800</td>\n",
       "      <td>7503</td>\n",
       "    </tr>\n",
       "    <tr>\n",
       "      <th>5</th>\n",
       "      <td>7237550310</td>\n",
       "      <td>20140512T000000</td>\n",
       "      <td>1225000.00</td>\n",
       "      <td>4</td>\n",
       "      <td>4.50</td>\n",
       "      <td>5420</td>\n",
       "      <td>101930</td>\n",
       "      <td>1.00</td>\n",
       "      <td>0</td>\n",
       "      <td>0</td>\n",
       "      <td>3</td>\n",
       "      <td>11</td>\n",
       "      <td>3890</td>\n",
       "      <td>1530</td>\n",
       "      <td>2001</td>\n",
       "      <td>0</td>\n",
       "      <td>98053</td>\n",
       "      <td>47.66</td>\n",
       "      <td>-122.00</td>\n",
       "      <td>4760</td>\n",
       "      <td>101930</td>\n",
       "    </tr>\n",
       "    <tr>\n",
       "      <th>6</th>\n",
       "      <td>1321400060</td>\n",
       "      <td>20140627T000000</td>\n",
       "      <td>257500.00</td>\n",
       "      <td>3</td>\n",
       "      <td>2.25</td>\n",
       "      <td>1715</td>\n",
       "      <td>6819</td>\n",
       "      <td>2.00</td>\n",
       "      <td>0</td>\n",
       "      <td>0</td>\n",
       "      <td>3</td>\n",
       "      <td>7</td>\n",
       "      <td>1715</td>\n",
       "      <td>0</td>\n",
       "      <td>1995</td>\n",
       "      <td>0</td>\n",
       "      <td>98003</td>\n",
       "      <td>47.31</td>\n",
       "      <td>-122.33</td>\n",
       "      <td>2238</td>\n",
       "      <td>6819</td>\n",
       "    </tr>\n",
       "    <tr>\n",
       "      <th>7</th>\n",
       "      <td>2008000270</td>\n",
       "      <td>20150115T000000</td>\n",
       "      <td>291850.00</td>\n",
       "      <td>3</td>\n",
       "      <td>1.50</td>\n",
       "      <td>1060</td>\n",
       "      <td>9711</td>\n",
       "      <td>1.00</td>\n",
       "      <td>0</td>\n",
       "      <td>0</td>\n",
       "      <td>3</td>\n",
       "      <td>7</td>\n",
       "      <td>1060</td>\n",
       "      <td>0</td>\n",
       "      <td>1963</td>\n",
       "      <td>0</td>\n",
       "      <td>98198</td>\n",
       "      <td>47.41</td>\n",
       "      <td>-122.31</td>\n",
       "      <td>1650</td>\n",
       "      <td>9711</td>\n",
       "    </tr>\n",
       "    <tr>\n",
       "      <th>8</th>\n",
       "      <td>2414600126</td>\n",
       "      <td>20150415T000000</td>\n",
       "      <td>229500.00</td>\n",
       "      <td>3</td>\n",
       "      <td>1.00</td>\n",
       "      <td>1780</td>\n",
       "      <td>7470</td>\n",
       "      <td>1.00</td>\n",
       "      <td>0</td>\n",
       "      <td>0</td>\n",
       "      <td>3</td>\n",
       "      <td>7</td>\n",
       "      <td>1050</td>\n",
       "      <td>730</td>\n",
       "      <td>1960</td>\n",
       "      <td>0</td>\n",
       "      <td>98146</td>\n",
       "      <td>47.51</td>\n",
       "      <td>-122.34</td>\n",
       "      <td>1780</td>\n",
       "      <td>8113</td>\n",
       "    </tr>\n",
       "    <tr>\n",
       "      <th>9</th>\n",
       "      <td>3793500160</td>\n",
       "      <td>20150312T000000</td>\n",
       "      <td>323000.00</td>\n",
       "      <td>3</td>\n",
       "      <td>2.50</td>\n",
       "      <td>1890</td>\n",
       "      <td>6560</td>\n",
       "      <td>2.00</td>\n",
       "      <td>0</td>\n",
       "      <td>0</td>\n",
       "      <td>3</td>\n",
       "      <td>7</td>\n",
       "      <td>1890</td>\n",
       "      <td>0</td>\n",
       "      <td>2003</td>\n",
       "      <td>0</td>\n",
       "      <td>98038</td>\n",
       "      <td>47.37</td>\n",
       "      <td>-122.03</td>\n",
       "      <td>2390</td>\n",
       "      <td>7570</td>\n",
       "    </tr>\n",
       "    <tr>\n",
       "      <th>10</th>\n",
       "      <td>1736800520</td>\n",
       "      <td>20150403T000000</td>\n",
       "      <td>662500.00</td>\n",
       "      <td>3</td>\n",
       "      <td>2.50</td>\n",
       "      <td>3560</td>\n",
       "      <td>9796</td>\n",
       "      <td>1.00</td>\n",
       "      <td>0</td>\n",
       "      <td>0</td>\n",
       "      <td>3</td>\n",
       "      <td>8</td>\n",
       "      <td>1860</td>\n",
       "      <td>1700</td>\n",
       "      <td>1965</td>\n",
       "      <td>0</td>\n",
       "      <td>98007</td>\n",
       "      <td>47.60</td>\n",
       "      <td>-122.14</td>\n",
       "      <td>2210</td>\n",
       "      <td>8925</td>\n",
       "    </tr>\n",
       "    <tr>\n",
       "      <th>11</th>\n",
       "      <td>9212900260</td>\n",
       "      <td>20140527T000000</td>\n",
       "      <td>468000.00</td>\n",
       "      <td>2</td>\n",
       "      <td>1.00</td>\n",
       "      <td>1160</td>\n",
       "      <td>6000</td>\n",
       "      <td>1.00</td>\n",
       "      <td>0</td>\n",
       "      <td>0</td>\n",
       "      <td>4</td>\n",
       "      <td>7</td>\n",
       "      <td>860</td>\n",
       "      <td>300</td>\n",
       "      <td>1942</td>\n",
       "      <td>0</td>\n",
       "      <td>98115</td>\n",
       "      <td>47.69</td>\n",
       "      <td>-122.29</td>\n",
       "      <td>1330</td>\n",
       "      <td>6000</td>\n",
       "    </tr>\n",
       "    <tr>\n",
       "      <th>12</th>\n",
       "      <td>114101516</td>\n",
       "      <td>20140528T000000</td>\n",
       "      <td>310000.00</td>\n",
       "      <td>3</td>\n",
       "      <td>1.00</td>\n",
       "      <td>1430</td>\n",
       "      <td>19901</td>\n",
       "      <td>1.50</td>\n",
       "      <td>0</td>\n",
       "      <td>0</td>\n",
       "      <td>4</td>\n",
       "      <td>7</td>\n",
       "      <td>1430</td>\n",
       "      <td>0</td>\n",
       "      <td>1927</td>\n",
       "      <td>0</td>\n",
       "      <td>98028</td>\n",
       "      <td>47.76</td>\n",
       "      <td>-122.23</td>\n",
       "      <td>1780</td>\n",
       "      <td>12697</td>\n",
       "    </tr>\n",
       "    <tr>\n",
       "      <th>13</th>\n",
       "      <td>6054650070</td>\n",
       "      <td>20141007T000000</td>\n",
       "      <td>400000.00</td>\n",
       "      <td>3</td>\n",
       "      <td>1.75</td>\n",
       "      <td>1370</td>\n",
       "      <td>9680</td>\n",
       "      <td>1.00</td>\n",
       "      <td>0</td>\n",
       "      <td>0</td>\n",
       "      <td>4</td>\n",
       "      <td>7</td>\n",
       "      <td>1370</td>\n",
       "      <td>0</td>\n",
       "      <td>1977</td>\n",
       "      <td>0</td>\n",
       "      <td>98074</td>\n",
       "      <td>47.61</td>\n",
       "      <td>-122.05</td>\n",
       "      <td>1370</td>\n",
       "      <td>10208</td>\n",
       "    </tr>\n",
       "    <tr>\n",
       "      <th>14</th>\n",
       "      <td>1175000570</td>\n",
       "      <td>20150312T000000</td>\n",
       "      <td>530000.00</td>\n",
       "      <td>5</td>\n",
       "      <td>2.00</td>\n",
       "      <td>1810</td>\n",
       "      <td>4850</td>\n",
       "      <td>1.50</td>\n",
       "      <td>0</td>\n",
       "      <td>0</td>\n",
       "      <td>3</td>\n",
       "      <td>7</td>\n",
       "      <td>1810</td>\n",
       "      <td>0</td>\n",
       "      <td>1900</td>\n",
       "      <td>0</td>\n",
       "      <td>98107</td>\n",
       "      <td>47.67</td>\n",
       "      <td>-122.39</td>\n",
       "      <td>1360</td>\n",
       "      <td>4850</td>\n",
       "    </tr>\n",
       "    <tr>\n",
       "      <th>15</th>\n",
       "      <td>9297300055</td>\n",
       "      <td>20150124T000000</td>\n",
       "      <td>650000.00</td>\n",
       "      <td>4</td>\n",
       "      <td>3.00</td>\n",
       "      <td>2950</td>\n",
       "      <td>5000</td>\n",
       "      <td>2.00</td>\n",
       "      <td>0</td>\n",
       "      <td>3</td>\n",
       "      <td>3</td>\n",
       "      <td>9</td>\n",
       "      <td>1980</td>\n",
       "      <td>970</td>\n",
       "      <td>1979</td>\n",
       "      <td>0</td>\n",
       "      <td>98126</td>\n",
       "      <td>47.57</td>\n",
       "      <td>-122.38</td>\n",
       "      <td>2140</td>\n",
       "      <td>4000</td>\n",
       "    </tr>\n",
       "    <tr>\n",
       "      <th>16</th>\n",
       "      <td>1875500060</td>\n",
       "      <td>20140731T000000</td>\n",
       "      <td>395000.00</td>\n",
       "      <td>3</td>\n",
       "      <td>2.00</td>\n",
       "      <td>1890</td>\n",
       "      <td>14040</td>\n",
       "      <td>2.00</td>\n",
       "      <td>0</td>\n",
       "      <td>0</td>\n",
       "      <td>3</td>\n",
       "      <td>7</td>\n",
       "      <td>1890</td>\n",
       "      <td>0</td>\n",
       "      <td>1994</td>\n",
       "      <td>0</td>\n",
       "      <td>98019</td>\n",
       "      <td>47.73</td>\n",
       "      <td>-121.96</td>\n",
       "      <td>1890</td>\n",
       "      <td>14018</td>\n",
       "    </tr>\n",
       "    <tr>\n",
       "      <th>17</th>\n",
       "      <td>6865200140</td>\n",
       "      <td>20140529T000000</td>\n",
       "      <td>485000.00</td>\n",
       "      <td>4</td>\n",
       "      <td>1.00</td>\n",
       "      <td>1600</td>\n",
       "      <td>4300</td>\n",
       "      <td>1.50</td>\n",
       "      <td>0</td>\n",
       "      <td>0</td>\n",
       "      <td>4</td>\n",
       "      <td>7</td>\n",
       "      <td>1600</td>\n",
       "      <td>0</td>\n",
       "      <td>1916</td>\n",
       "      <td>0</td>\n",
       "      <td>98103</td>\n",
       "      <td>47.66</td>\n",
       "      <td>-122.34</td>\n",
       "      <td>1610</td>\n",
       "      <td>4300</td>\n",
       "    </tr>\n",
       "    <tr>\n",
       "      <th>18</th>\n",
       "      <td>16000397</td>\n",
       "      <td>20141205T000000</td>\n",
       "      <td>189000.00</td>\n",
       "      <td>2</td>\n",
       "      <td>1.00</td>\n",
       "      <td>1200</td>\n",
       "      <td>9850</td>\n",
       "      <td>1.00</td>\n",
       "      <td>0</td>\n",
       "      <td>0</td>\n",
       "      <td>4</td>\n",
       "      <td>7</td>\n",
       "      <td>1200</td>\n",
       "      <td>0</td>\n",
       "      <td>1921</td>\n",
       "      <td>0</td>\n",
       "      <td>98002</td>\n",
       "      <td>47.31</td>\n",
       "      <td>-122.21</td>\n",
       "      <td>1060</td>\n",
       "      <td>5095</td>\n",
       "    </tr>\n",
       "    <tr>\n",
       "      <th>19</th>\n",
       "      <td>7983200060</td>\n",
       "      <td>20150424T000000</td>\n",
       "      <td>230000.00</td>\n",
       "      <td>3</td>\n",
       "      <td>1.00</td>\n",
       "      <td>1250</td>\n",
       "      <td>9774</td>\n",
       "      <td>1.00</td>\n",
       "      <td>0</td>\n",
       "      <td>0</td>\n",
       "      <td>4</td>\n",
       "      <td>7</td>\n",
       "      <td>1250</td>\n",
       "      <td>0</td>\n",
       "      <td>1969</td>\n",
       "      <td>0</td>\n",
       "      <td>98003</td>\n",
       "      <td>47.33</td>\n",
       "      <td>-122.31</td>\n",
       "      <td>1280</td>\n",
       "      <td>8850</td>\n",
       "    </tr>\n",
       "  </tbody>\n",
       "</table>\n",
       "</div>"
      ],
      "text/plain": [
       "            id             date      price  bedrooms  bathrooms  sqft_living  sqft_lot  floors  waterfront  view  condition  grade  sqft_above  sqft_basement  yr_built  yr_renovated  zipcode   lat    long  sqft_living15  sqft_lot15\n",
       "0   7129300520  20141013T000000  221900.00         3       1.00         1180      5650    1.00           0     0          3      7        1180              0      1955             0    98178 47.51 -122.26           1340        5650\n",
       "1   6414100192  20141209T000000  538000.00         3       2.25         2570      7242    2.00           0     0          3      7        2170            400      1951          1991    98125 47.72 -122.32           1690        7639\n",
       "2   5631500400  20150225T000000  180000.00         2       1.00          770     10000    1.00           0     0          3      6         770              0      1933             0    98028 47.74 -122.23           2720        8062\n",
       "3   2487200875  20141209T000000  604000.00         4       3.00         1960      5000    1.00           0     0          5      7        1050            910      1965             0    98136 47.52 -122.39           1360        5000\n",
       "4   1954400510  20150218T000000  510000.00         3       2.00         1680      8080    1.00           0     0          3      8        1680              0      1987             0    98074 47.62 -122.05           1800        7503\n",
       "5   7237550310  20140512T000000 1225000.00         4       4.50         5420    101930    1.00           0     0          3     11        3890           1530      2001             0    98053 47.66 -122.00           4760      101930\n",
       "6   1321400060  20140627T000000  257500.00         3       2.25         1715      6819    2.00           0     0          3      7        1715              0      1995             0    98003 47.31 -122.33           2238        6819\n",
       "7   2008000270  20150115T000000  291850.00         3       1.50         1060      9711    1.00           0     0          3      7        1060              0      1963             0    98198 47.41 -122.31           1650        9711\n",
       "8   2414600126  20150415T000000  229500.00         3       1.00         1780      7470    1.00           0     0          3      7        1050            730      1960             0    98146 47.51 -122.34           1780        8113\n",
       "9   3793500160  20150312T000000  323000.00         3       2.50         1890      6560    2.00           0     0          3      7        1890              0      2003             0    98038 47.37 -122.03           2390        7570\n",
       "10  1736800520  20150403T000000  662500.00         3       2.50         3560      9796    1.00           0     0          3      8        1860           1700      1965             0    98007 47.60 -122.14           2210        8925\n",
       "11  9212900260  20140527T000000  468000.00         2       1.00         1160      6000    1.00           0     0          4      7         860            300      1942             0    98115 47.69 -122.29           1330        6000\n",
       "12   114101516  20140528T000000  310000.00         3       1.00         1430     19901    1.50           0     0          4      7        1430              0      1927             0    98028 47.76 -122.23           1780       12697\n",
       "13  6054650070  20141007T000000  400000.00         3       1.75         1370      9680    1.00           0     0          4      7        1370              0      1977             0    98074 47.61 -122.05           1370       10208\n",
       "14  1175000570  20150312T000000  530000.00         5       2.00         1810      4850    1.50           0     0          3      7        1810              0      1900             0    98107 47.67 -122.39           1360        4850\n",
       "15  9297300055  20150124T000000  650000.00         4       3.00         2950      5000    2.00           0     3          3      9        1980            970      1979             0    98126 47.57 -122.38           2140        4000\n",
       "16  1875500060  20140731T000000  395000.00         3       2.00         1890     14040    2.00           0     0          3      7        1890              0      1994             0    98019 47.73 -121.96           1890       14018\n",
       "17  6865200140  20140529T000000  485000.00         4       1.00         1600      4300    1.50           0     0          4      7        1600              0      1916             0    98103 47.66 -122.34           1610        4300\n",
       "18    16000397  20141205T000000  189000.00         2       1.00         1200      9850    1.00           0     0          4      7        1200              0      1921             0    98002 47.31 -122.21           1060        5095\n",
       "19  7983200060  20150424T000000  230000.00         3       1.00         1250      9774    1.00           0     0          4      7        1250              0      1969             0    98003 47.33 -122.31           1280        8850"
      ]
     },
     "metadata": {},
     "output_type": "display_data"
    }
   ],
   "source": [
    "display(data.head(20))"
   ]
  },
  {
   "cell_type": "markdown",
   "id": "bc8876d0",
   "metadata": {},
   "source": [
    "## 1.1 Data Types"
   ]
  },
  {
   "cell_type": "code",
   "execution_count": 11,
   "id": "c52ca259",
   "metadata": {
    "ExecuteTime": {
     "end_time": "2022-01-27T02:42:04.557259Z",
     "start_time": "2022-01-27T02:42:04.532301Z"
    },
    "scrolled": true
   },
   "outputs": [
    {
     "name": "stdout",
     "output_type": "stream",
     "text": [
      "<class 'pandas.core.frame.DataFrame'>\n",
      "RangeIndex: 21613 entries, 0 to 21612\n",
      "Data columns (total 21 columns):\n",
      " #   Column         Non-Null Count  Dtype  \n",
      "---  ------         --------------  -----  \n",
      " 0   id             21613 non-null  int64  \n",
      " 1   date           21613 non-null  object \n",
      " 2   price          21613 non-null  float64\n",
      " 3   bedrooms       21613 non-null  int64  \n",
      " 4   bathrooms      21613 non-null  float64\n",
      " 5   sqft_living    21613 non-null  int64  \n",
      " 6   sqft_lot       21613 non-null  int64  \n",
      " 7   floors         21613 non-null  float64\n",
      " 8   waterfront     21613 non-null  int64  \n",
      " 9   view           21613 non-null  int64  \n",
      " 10  condition      21613 non-null  int64  \n",
      " 11  grade          21613 non-null  int64  \n",
      " 12  sqft_above     21613 non-null  int64  \n",
      " 13  sqft_basement  21613 non-null  int64  \n",
      " 14  yr_built       21613 non-null  int64  \n",
      " 15  yr_renovated   21613 non-null  int64  \n",
      " 16  zipcode        21613 non-null  int64  \n",
      " 17  lat            21613 non-null  float64\n",
      " 18  long           21613 non-null  float64\n",
      " 19  sqft_living15  21613 non-null  int64  \n",
      " 20  sqft_lot15     21613 non-null  int64  \n",
      "dtypes: float64(5), int64(15), object(1)\n",
      "memory usage: 4.8 MB\n",
      "None\n"
     ]
    }
   ],
   "source": [
    "print(data.info(memory_usage='deep'))"
   ]
  },
  {
   "cell_type": "markdown",
   "id": "7fcca1d1",
   "metadata": {
    "ExecuteTime": {
     "end_time": "2022-01-25T16:03:49.636621Z",
     "start_time": "2022-01-25T16:03:49.629619Z"
    }
   },
   "source": [
    "## 1.2 Data Dimensions"
   ]
  },
  {
   "cell_type": "code",
   "execution_count": 12,
   "id": "c6b13e1e",
   "metadata": {
    "ExecuteTime": {
     "end_time": "2022-01-27T02:42:06.022037Z",
     "start_time": "2022-01-27T02:42:06.007032Z"
    }
   },
   "outputs": [
    {
     "name": "stdout",
     "output_type": "stream",
     "text": [
      "Number of rows: 21613 \n",
      "Number of columns: 21\n"
     ]
    }
   ],
   "source": [
    "print(f'Number of rows: {data.shape[0]} \\nNumber of columns: {data.shape[1]}')"
   ]
  },
  {
   "cell_type": "markdown",
   "id": "62f33068",
   "metadata": {},
   "source": [
    "## 1.3 Descriptive Statistics"
   ]
  },
  {
   "cell_type": "code",
   "execution_count": 13,
   "id": "8fddf122",
   "metadata": {
    "ExecuteTime": {
     "end_time": "2022-01-27T02:42:18.193617Z",
     "start_time": "2022-01-27T02:42:18.117624Z"
    }
   },
   "outputs": [
    {
     "data": {
      "text/html": [
       "<div>\n",
       "<style scoped>\n",
       "    .dataframe tbody tr th:only-of-type {\n",
       "        vertical-align: middle;\n",
       "    }\n",
       "\n",
       "    .dataframe tbody tr th {\n",
       "        vertical-align: top;\n",
       "    }\n",
       "\n",
       "    .dataframe thead th {\n",
       "        text-align: right;\n",
       "    }\n",
       "</style>\n",
       "<table border=\"1\" class=\"dataframe\">\n",
       "  <thead>\n",
       "    <tr style=\"text-align: right;\">\n",
       "      <th></th>\n",
       "      <th>attributes</th>\n",
       "      <th>maximo</th>\n",
       "      <th>minimum</th>\n",
       "      <th>mean</th>\n",
       "      <th>median</th>\n",
       "      <th>std</th>\n",
       "    </tr>\n",
       "  </thead>\n",
       "  <tbody>\n",
       "    <tr>\n",
       "      <th>0</th>\n",
       "      <td>id</td>\n",
       "      <td>9900000190.00</td>\n",
       "      <td>1000102.00</td>\n",
       "      <td>4580301520.86</td>\n",
       "      <td>3904930410.00</td>\n",
       "      <td>2876499023.43</td>\n",
       "    </tr>\n",
       "    <tr>\n",
       "      <th>1</th>\n",
       "      <td>price</td>\n",
       "      <td>7700000.00</td>\n",
       "      <td>75000.00</td>\n",
       "      <td>540088.14</td>\n",
       "      <td>450000.00</td>\n",
       "      <td>367118.70</td>\n",
       "    </tr>\n",
       "    <tr>\n",
       "      <th>2</th>\n",
       "      <td>bedrooms</td>\n",
       "      <td>33.00</td>\n",
       "      <td>0.00</td>\n",
       "      <td>3.37</td>\n",
       "      <td>3.00</td>\n",
       "      <td>0.93</td>\n",
       "    </tr>\n",
       "    <tr>\n",
       "      <th>3</th>\n",
       "      <td>bathrooms</td>\n",
       "      <td>8.00</td>\n",
       "      <td>0.00</td>\n",
       "      <td>2.11</td>\n",
       "      <td>2.25</td>\n",
       "      <td>0.77</td>\n",
       "    </tr>\n",
       "    <tr>\n",
       "      <th>4</th>\n",
       "      <td>sqft_living</td>\n",
       "      <td>13540.00</td>\n",
       "      <td>290.00</td>\n",
       "      <td>2079.90</td>\n",
       "      <td>1910.00</td>\n",
       "      <td>918.42</td>\n",
       "    </tr>\n",
       "    <tr>\n",
       "      <th>5</th>\n",
       "      <td>sqft_lot</td>\n",
       "      <td>1651359.00</td>\n",
       "      <td>520.00</td>\n",
       "      <td>15106.97</td>\n",
       "      <td>7618.00</td>\n",
       "      <td>41419.55</td>\n",
       "    </tr>\n",
       "    <tr>\n",
       "      <th>6</th>\n",
       "      <td>floors</td>\n",
       "      <td>3.50</td>\n",
       "      <td>1.00</td>\n",
       "      <td>1.49</td>\n",
       "      <td>1.50</td>\n",
       "      <td>0.54</td>\n",
       "    </tr>\n",
       "    <tr>\n",
       "      <th>7</th>\n",
       "      <td>waterfront</td>\n",
       "      <td>1.00</td>\n",
       "      <td>0.00</td>\n",
       "      <td>0.01</td>\n",
       "      <td>0.00</td>\n",
       "      <td>0.09</td>\n",
       "    </tr>\n",
       "    <tr>\n",
       "      <th>8</th>\n",
       "      <td>view</td>\n",
       "      <td>4.00</td>\n",
       "      <td>0.00</td>\n",
       "      <td>0.23</td>\n",
       "      <td>0.00</td>\n",
       "      <td>0.77</td>\n",
       "    </tr>\n",
       "    <tr>\n",
       "      <th>9</th>\n",
       "      <td>condition</td>\n",
       "      <td>5.00</td>\n",
       "      <td>1.00</td>\n",
       "      <td>3.41</td>\n",
       "      <td>3.00</td>\n",
       "      <td>0.65</td>\n",
       "    </tr>\n",
       "    <tr>\n",
       "      <th>10</th>\n",
       "      <td>grade</td>\n",
       "      <td>13.00</td>\n",
       "      <td>1.00</td>\n",
       "      <td>7.66</td>\n",
       "      <td>7.00</td>\n",
       "      <td>1.18</td>\n",
       "    </tr>\n",
       "    <tr>\n",
       "      <th>11</th>\n",
       "      <td>sqft_above</td>\n",
       "      <td>9410.00</td>\n",
       "      <td>290.00</td>\n",
       "      <td>1788.39</td>\n",
       "      <td>1560.00</td>\n",
       "      <td>828.07</td>\n",
       "    </tr>\n",
       "    <tr>\n",
       "      <th>12</th>\n",
       "      <td>sqft_basement</td>\n",
       "      <td>4820.00</td>\n",
       "      <td>0.00</td>\n",
       "      <td>291.51</td>\n",
       "      <td>0.00</td>\n",
       "      <td>442.56</td>\n",
       "    </tr>\n",
       "    <tr>\n",
       "      <th>13</th>\n",
       "      <td>yr_built</td>\n",
       "      <td>2015.00</td>\n",
       "      <td>1900.00</td>\n",
       "      <td>1971.01</td>\n",
       "      <td>1975.00</td>\n",
       "      <td>29.37</td>\n",
       "    </tr>\n",
       "    <tr>\n",
       "      <th>14</th>\n",
       "      <td>yr_renovated</td>\n",
       "      <td>2015.00</td>\n",
       "      <td>0.00</td>\n",
       "      <td>84.40</td>\n",
       "      <td>0.00</td>\n",
       "      <td>401.67</td>\n",
       "    </tr>\n",
       "    <tr>\n",
       "      <th>15</th>\n",
       "      <td>zipcode</td>\n",
       "      <td>98199.00</td>\n",
       "      <td>98001.00</td>\n",
       "      <td>98077.94</td>\n",
       "      <td>98065.00</td>\n",
       "      <td>53.50</td>\n",
       "    </tr>\n",
       "    <tr>\n",
       "      <th>16</th>\n",
       "      <td>lat</td>\n",
       "      <td>47.78</td>\n",
       "      <td>47.16</td>\n",
       "      <td>47.56</td>\n",
       "      <td>47.57</td>\n",
       "      <td>0.14</td>\n",
       "    </tr>\n",
       "    <tr>\n",
       "      <th>17</th>\n",
       "      <td>long</td>\n",
       "      <td>-121.31</td>\n",
       "      <td>-122.52</td>\n",
       "      <td>-122.21</td>\n",
       "      <td>-122.23</td>\n",
       "      <td>0.14</td>\n",
       "    </tr>\n",
       "    <tr>\n",
       "      <th>18</th>\n",
       "      <td>sqft_living15</td>\n",
       "      <td>6210.00</td>\n",
       "      <td>399.00</td>\n",
       "      <td>1986.55</td>\n",
       "      <td>1840.00</td>\n",
       "      <td>685.38</td>\n",
       "    </tr>\n",
       "    <tr>\n",
       "      <th>19</th>\n",
       "      <td>sqft_lot15</td>\n",
       "      <td>871200.00</td>\n",
       "      <td>651.00</td>\n",
       "      <td>12768.46</td>\n",
       "      <td>7620.00</td>\n",
       "      <td>27303.55</td>\n",
       "    </tr>\n",
       "  </tbody>\n",
       "</table>\n",
       "</div>"
      ],
      "text/plain": [
       "       attributes        maximo    minimum          mean        median           std\n",
       "0              id 9900000190.00 1000102.00 4580301520.86 3904930410.00 2876499023.43\n",
       "1           price    7700000.00   75000.00     540088.14     450000.00     367118.70\n",
       "2        bedrooms         33.00       0.00          3.37          3.00          0.93\n",
       "3       bathrooms          8.00       0.00          2.11          2.25          0.77\n",
       "4     sqft_living      13540.00     290.00       2079.90       1910.00        918.42\n",
       "5        sqft_lot    1651359.00     520.00      15106.97       7618.00      41419.55\n",
       "6          floors          3.50       1.00          1.49          1.50          0.54\n",
       "7      waterfront          1.00       0.00          0.01          0.00          0.09\n",
       "8            view          4.00       0.00          0.23          0.00          0.77\n",
       "9       condition          5.00       1.00          3.41          3.00          0.65\n",
       "10          grade         13.00       1.00          7.66          7.00          1.18\n",
       "11     sqft_above       9410.00     290.00       1788.39       1560.00        828.07\n",
       "12  sqft_basement       4820.00       0.00        291.51          0.00        442.56\n",
       "13       yr_built       2015.00    1900.00       1971.01       1975.00         29.37\n",
       "14   yr_renovated       2015.00       0.00         84.40          0.00        401.67\n",
       "15        zipcode      98199.00   98001.00      98077.94      98065.00         53.50\n",
       "16            lat         47.78      47.16         47.56         47.57          0.14\n",
       "17           long       -121.31    -122.52       -122.21       -122.23          0.14\n",
       "18  sqft_living15       6210.00     399.00       1986.55       1840.00        685.38\n",
       "19     sqft_lot15     871200.00     651.00      12768.46       7620.00      27303.55"
      ]
     },
     "metadata": {},
     "output_type": "display_data"
    },
    {
     "name": "stdout",
     "output_type": "stream",
     "text": [
      "Number of rows: 20 \n",
      "Number of columns: 6\n"
     ]
    }
   ],
   "source": [
    "num_attributes = data.select_dtypes(include=['int64', 'float64'])\n",
    "\n",
    "# central tendency - media, mediana\n",
    "mean = pd.DataFrame( num_attributes.apply( np.mean, axis=0 ) )\n",
    "median = pd.DataFrame( num_attributes.apply( np.median, axis=0 ) )\n",
    "\n",
    "# dispersion - std, min, max\n",
    "std = pd.DataFrame( num_attributes.apply( np.std, axis=0 ) )\n",
    "min_ = pd.DataFrame( num_attributes.apply( np.min, axis=0 ) )\n",
    "max_ = pd.DataFrame( num_attributes.apply( np.max, axis=0 ) )\n",
    "\n",
    "# concatenate metrics\n",
    "df1 = pd.concat( [max_, min_, mean, median, std], axis=1 ).reset_index()\n",
    "df1.columns = ['attributes', 'maximo', 'minimum', 'mean', 'median', 'std' ]\n",
    "\n",
    "display(df1)\n",
    "\n",
    "print(f'Number of rows: {df1.shape[0]} \\nNumber of columns: {df1.shape[1]}')"
   ]
  },
  {
   "cell_type": "markdown",
   "id": "334c30b6",
   "metadata": {},
   "source": [
    "## 1.4 Histrograms"
   ]
  },
  {
   "cell_type": "code",
   "execution_count": 14,
   "id": "68de052a",
   "metadata": {
    "ExecuteTime": {
     "end_time": "2022-01-27T02:42:32.020997Z",
     "start_time": "2022-01-27T02:42:30.340514Z"
    }
   },
   "outputs": [
    {
     "data": {
      "image/png": "[encoded data removed]",
      "text/plain": [
       "<Figure size 1440x864 with 5 Axes>"
      ]
     },
     "metadata": {},
     "output_type": "display_data"
    }
   ],
   "source": [
    "# grid layout to subplots\n",
    "fig = plt.figure(figsize=(20,12))\n",
    "specs = gridspec.GridSpec( nrows=3, ncols=2, figure=fig )\n",
    "\n",
    "ax1 = fig.add_subplot( specs[0,:] )\n",
    "ax2 = fig.add_subplot( specs[1,0] )\n",
    "ax3 = fig.add_subplot( specs[1,1] )\n",
    "ax4 = fig.add_subplot( specs[2,0] )\n",
    "ax5 = fig.add_subplot( specs[2,1] )\n",
    "\n",
    "# houses per bedrooms\n",
    "ax1.hist( x='bedrooms', bins=19, data=num_attributes);\n",
    "\n",
    "# houses per bathrooms\n",
    "ax2.hist( x='bathrooms', bins=10, data=num_attributes );\n",
    "\n",
    "# houses per floors\n",
    "ax3.hist( x='floors', bins=5, data=num_attributes );\n",
    "\n",
    "# houses per condition\n",
    "ax4.hist( x='condition', bins=5, data=num_attributes );\n",
    "\n",
    "# houses per waterview\n",
    "ax5.hist( x='waterfront', bins=2, data=num_attributes );"
   ]
  },
  {
   "cell_type": "markdown",
   "id": "68500e1d",
   "metadata": {},
   "source": [
    "## 1.5 Quartiles"
   ]
  },
  {
   "cell_type": "code",
   "execution_count": 15,
   "id": "7cc4094d",
   "metadata": {
    "ExecuteTime": {
     "end_time": "2022-01-27T02:42:34.513151Z",
     "start_time": "2022-01-27T02:42:34.389429Z"
    }
   },
   "outputs": [
    {
     "name": "stdout",
     "output_type": "stream",
     "text": [
      "[321950.0, 450000.0, 645000.0]\n"
     ]
    }
   ],
   "source": [
    "# price quartile\n",
    "quart = list(data['price'].quantile([0.25, 0.5, 0.75])) \n",
    "print( quart )"
   ]
  },
  {
   "cell_type": "markdown",
   "id": "ed47b729",
   "metadata": {
    "ExecuteTime": {
     "end_time": "2022-01-25T13:57:51.049225Z",
     "start_time": "2022-01-25T13:57:51.045222Z"
    }
   },
   "source": [
    "# 2.0 Feature Engineering"
   ]
  },
  {
   "cell_type": "markdown",
   "id": "817f3ff4",
   "metadata": {},
   "source": [
    "## 2.1 Change Data Type"
   ]
  },
  {
   "cell_type": "code",
   "execution_count": 16,
   "id": "12fc22d8",
   "metadata": {
    "ExecuteTime": {
     "end_time": "2022-01-27T02:42:39.620877Z",
     "start_time": "2022-01-27T02:42:39.604844Z"
    }
   },
   "outputs": [],
   "source": [
    "data['date'] = pd.to_datetime( data['date'] )"
   ]
  },
  {
   "cell_type": "markdown",
   "id": "0534d2d4",
   "metadata": {},
   "source": [
    "## 2.2 New Data Columns"
   ]
  },
  {
   "cell_type": "code",
   "execution_count": 17,
   "id": "9164c24b",
   "metadata": {
    "ExecuteTime": {
     "end_time": "2022-01-27T02:42:40.759694Z",
     "start_time": "2022-01-27T02:42:40.276704Z"
    }
   },
   "outputs": [],
   "source": [
    "data['year'] = pd.to_datetime( data['date'] ).dt.year\n",
    "data['year_month'] = pd.to_datetime( data['date'] ).dt.strftime( '%Y-%m' )\n",
    "data['year_week'] = pd.to_datetime( data['date'] ).dt.strftime( '%Y-%U' )\n",
    "data['month'] = pd.to_datetime( data['date'] ).dt.month"
   ]
  },
  {
   "cell_type": "markdown",
   "id": "26688801",
   "metadata": {},
   "source": [
    "## 2.3 Waterfront Categorical Column"
   ]
  },
  {
   "cell_type": "code",
   "execution_count": 18,
   "id": "9eb6b326",
   "metadata": {
    "ExecuteTime": {
     "end_time": "2022-01-27T02:42:41.584912Z",
     "start_time": "2022-01-27T02:42:41.555910Z"
    }
   },
   "outputs": [],
   "source": [
    "data['is_waterfront'] = data['waterfront'].apply(  lambda x: 'no' if x == 0 else 'yes')"
   ]
  },
  {
   "cell_type": "markdown",
   "id": "28a5e67c",
   "metadata": {},
   "source": [
    "## 2.4 Price Level Column"
   ]
  },
  {
   "cell_type": "code",
   "execution_count": 19,
   "id": "687e458e",
   "metadata": {
    "ExecuteTime": {
     "end_time": "2022-01-27T02:42:42.695003Z",
     "start_time": "2022-01-27T02:42:42.660921Z"
    }
   },
   "outputs": [],
   "source": [
    "quartile = list( data['price'].quantile([0.25, 0.50, 0.75]) )\n",
    "\n",
    "data['price_level'] = data['price'].apply( lambda x: 'level_one'   if x<= quartile[0] else\n",
    "                                                     'level_two'   if ( x > quartile[0] ) & ( x <= quartile[1] ) else\n",
    "                                                     'level_three' if ( x > quartile[1] ) & ( x <= quartile[2] ) else\n",
    "                                                     'level_four' )"
   ]
  },
  {
   "cell_type": "markdown",
   "id": "63615389",
   "metadata": {},
   "source": [
    "## 2.5 Condition Status"
   ]
  },
  {
   "cell_type": "code",
   "execution_count": 20,
   "id": "b1ee9922",
   "metadata": {
    "ExecuteTime": {
     "end_time": "2022-01-27T02:42:43.594622Z",
     "start_time": "2022-01-27T02:42:43.572578Z"
    }
   },
   "outputs": [],
   "source": [
    "data['status_condition'] = data['condition'].apply( lambda x: 'bad'     if x <= 2 else\n",
    "                                                              'regular' if x == 3 else\n",
    "                                                              'good'    if x == 4 else\n",
    "                                                              'excelent')"
   ]
  },
  {
   "cell_type": "markdown",
   "id": "a4c5c5b7",
   "metadata": {},
   "source": [
    "## 2.6 Renovated Status"
   ]
  },
  {
   "cell_type": "code",
   "execution_count": 21,
   "id": "5c33936e",
   "metadata": {
    "ExecuteTime": {
     "end_time": "2022-01-27T02:42:44.512935Z",
     "start_time": "2022-01-27T02:42:44.499893Z"
    }
   },
   "outputs": [],
   "source": [
    "data['renovated'] = data['yr_renovated'].apply( lambda x: 'no' if x == 0 else 'yes' )"
   ]
  },
  {
   "cell_type": "markdown",
   "id": "8d7e9a25",
   "metadata": {},
   "source": [
    "## 2.7 Price per Lot Size"
   ]
  },
  {
   "cell_type": "code",
   "execution_count": 22,
   "id": "7f69939b",
   "metadata": {
    "ExecuteTime": {
     "end_time": "2022-01-27T02:42:45.429543Z",
     "start_time": "2022-01-27T02:42:45.412545Z"
    }
   },
   "outputs": [],
   "source": [
    "data['price/sqft_lot'] = data['price']/data['sqft_lot']"
   ]
  },
  {
   "cell_type": "markdown",
   "id": "a152dad4",
   "metadata": {
    "ExecuteTime": {
     "end_time": "2022-01-25T13:57:23.737807Z",
     "start_time": "2022-01-25T13:57:23.732810Z"
    }
   },
   "source": [
    "# 3.0 Data Filtering"
   ]
  },
  {
   "cell_type": "markdown",
   "id": "e6cdc61a",
   "metadata": {},
   "source": [
    "## 3.1 Check NA"
   ]
  },
  {
   "cell_type": "code",
   "execution_count": 23,
   "id": "9047e934",
   "metadata": {
    "ExecuteTime": {
     "end_time": "2022-01-27T02:42:51.393412Z",
     "start_time": "2022-01-27T02:42:51.366413Z"
    }
   },
   "outputs": [
    {
     "data": {
      "text/plain": [
       "id                  0\n",
       "date                0\n",
       "price               0\n",
       "bedrooms            0\n",
       "bathrooms           0\n",
       "sqft_living         0\n",
       "sqft_lot            0\n",
       "floors              0\n",
       "waterfront          0\n",
       "view                0\n",
       "condition           0\n",
       "grade               0\n",
       "sqft_above          0\n",
       "sqft_basement       0\n",
       "yr_built            0\n",
       "yr_renovated        0\n",
       "zipcode             0\n",
       "lat                 0\n",
       "long                0\n",
       "sqft_living15       0\n",
       "sqft_lot15          0\n",
       "year                0\n",
       "year_month          0\n",
       "year_week           0\n",
       "month               0\n",
       "is_waterfront       0\n",
       "price_level         0\n",
       "status_condition    0\n",
       "renovated           0\n",
       "price/sqft_lot      0\n",
       "dtype: int64"
      ]
     },
     "execution_count": 23,
     "metadata": {},
     "output_type": "execute_result"
    }
   ],
   "source": [
    "data.isna().sum()"
   ]
  },
  {
   "cell_type": "markdown",
   "id": "cdb24825",
   "metadata": {},
   "source": [
    "## 3.2 Fillout NA"
   ]
  },
  {
   "cell_type": "code",
   "execution_count": null,
   "id": "7b7d7691",
   "metadata": {},
   "outputs": [],
   "source": []
  },
  {
   "cell_type": "markdown",
   "id": "73fe5033",
   "metadata": {},
   "source": [
    "## 3.3 Data Filtering"
   ]
  },
  {
   "cell_type": "code",
   "execution_count": 24,
   "id": "be2ca03b",
   "metadata": {
    "ExecuteTime": {
     "end_time": "2022-01-27T02:42:53.931666Z",
     "start_time": "2022-01-27T02:42:53.908630Z"
    }
   },
   "outputs": [],
   "source": [
    "# bedrooms\n",
    "data = data[ data['bedrooms'] != 33 ]"
   ]
  },
  {
   "cell_type": "markdown",
   "id": "90184ce8",
   "metadata": {},
   "source": [
    "## 3.4 Select Columns"
   ]
  },
  {
   "cell_type": "code",
   "execution_count": 25,
   "id": "a04089e9",
   "metadata": {
    "ExecuteTime": {
     "end_time": "2022-01-27T02:42:54.803800Z",
     "start_time": "2022-01-27T02:42:54.764842Z"
    }
   },
   "outputs": [],
   "source": [
    "# grade\n",
    "data = data.drop( columns='grade')\n",
    "\n",
    "# sqft_above\n",
    "data = data.drop( columns='sqft_above')\n",
    "\n",
    "# sqft_living15\n",
    "data = data.drop( columns='sqft_living15')\n",
    "\n",
    "# sqft_lot15\n",
    "data = data.drop( columns='sqft_lot15' )"
   ]
  },
  {
   "cell_type": "markdown",
   "id": "9c39a282",
   "metadata": {
    "ExecuteTime": {
     "end_time": "2022-01-25T13:57:05.052710Z",
     "start_time": "2022-01-25T13:57:05.044711Z"
    }
   },
   "source": [
    "# 4.0 Data Exploratory Analysis"
   ]
  },
  {
   "cell_type": "code",
   "execution_count": 26,
   "id": "360e7f38",
   "metadata": {
    "ExecuteTime": {
     "end_time": "2022-01-27T02:45:07.463143Z",
     "start_time": "2022-01-27T02:45:07.445143Z"
    }
   },
   "outputs": [
    {
     "data": {
      "text/plain": [
       "id                           int64\n",
       "date                datetime64[ns]\n",
       "price                      float64\n",
       "bedrooms                     int64\n",
       "bathrooms                  float64\n",
       "sqft_living                  int64\n",
       "sqft_lot                     int64\n",
       "floors                     float64\n",
       "waterfront                   int64\n",
       "view                         int64\n",
       "condition                    int64\n",
       "sqft_basement                int64\n",
       "yr_built                     int64\n",
       "yr_renovated                 int64\n",
       "zipcode                      int64\n",
       "lat                        float64\n",
       "long                       float64\n",
       "year                         int64\n",
       "year_month                  object\n",
       "year_week                   object\n",
       "month                        int64\n",
       "is_waterfront               object\n",
       "price_level                 object\n",
       "status_condition            object\n",
       "renovated                   object\n",
       "price/sqft_lot             float64\n",
       "dtype: object"
      ]
     },
     "execution_count": 26,
     "metadata": {},
     "output_type": "execute_result"
    }
   ],
   "source": [
    "data.dtypes"
   ]
  },
  {
   "cell_type": "code",
   "execution_count": 31,
   "id": "f8825581",
   "metadata": {
    "ExecuteTime": {
     "end_time": "2022-01-27T02:49:05.497968Z",
     "start_time": "2022-01-27T02:49:05.480969Z"
    }
   },
   "outputs": [],
   "source": [
    "# numerical attributes\n",
    "num_attributes = data.select_dtypes( include=['int64', 'float64'] )\n",
    "\n",
    "# categorical attributes\n",
    "cat_attributes = data.select_dtypes( include='object' )"
   ]
  },
  {
   "cell_type": "code",
   "execution_count": 32,
   "id": "f7d03012",
   "metadata": {
    "ExecuteTime": {
     "end_time": "2022-01-27T02:49:10.830797Z",
     "start_time": "2022-01-27T02:49:10.805840Z"
    }
   },
   "outputs": [
    {
     "data": {
      "text/html": [
       "<div>\n",
       "<style scoped>\n",
       "    .dataframe tbody tr th:only-of-type {\n",
       "        vertical-align: middle;\n",
       "    }\n",
       "\n",
       "    .dataframe tbody tr th {\n",
       "        vertical-align: top;\n",
       "    }\n",
       "\n",
       "    .dataframe thead th {\n",
       "        text-align: right;\n",
       "    }\n",
       "</style>\n",
       "<table border=\"1\" class=\"dataframe\">\n",
       "  <thead>\n",
       "    <tr style=\"text-align: right;\">\n",
       "      <th></th>\n",
       "      <th>year_month</th>\n",
       "      <th>year_week</th>\n",
       "      <th>is_waterfront</th>\n",
       "      <th>price_level</th>\n",
       "      <th>status_condition</th>\n",
       "      <th>renovated</th>\n",
       "    </tr>\n",
       "  </thead>\n",
       "  <tbody>\n",
       "    <tr>\n",
       "      <th>0</th>\n",
       "      <td>2014-10</td>\n",
       "      <td>2014-41</td>\n",
       "      <td>no</td>\n",
       "      <td>level_one</td>\n",
       "      <td>regular</td>\n",
       "      <td>no</td>\n",
       "    </tr>\n",
       "    <tr>\n",
       "      <th>1</th>\n",
       "      <td>2014-12</td>\n",
       "      <td>2014-49</td>\n",
       "      <td>no</td>\n",
       "      <td>level_three</td>\n",
       "      <td>regular</td>\n",
       "      <td>yes</td>\n",
       "    </tr>\n",
       "    <tr>\n",
       "      <th>2</th>\n",
       "      <td>2015-02</td>\n",
       "      <td>2015-08</td>\n",
       "      <td>no</td>\n",
       "      <td>level_one</td>\n",
       "      <td>regular</td>\n",
       "      <td>no</td>\n",
       "    </tr>\n",
       "    <tr>\n",
       "      <th>3</th>\n",
       "      <td>2014-12</td>\n",
       "      <td>2014-49</td>\n",
       "      <td>no</td>\n",
       "      <td>level_three</td>\n",
       "      <td>excelent</td>\n",
       "      <td>no</td>\n",
       "    </tr>\n",
       "    <tr>\n",
       "      <th>4</th>\n",
       "      <td>2015-02</td>\n",
       "      <td>2015-07</td>\n",
       "      <td>no</td>\n",
       "      <td>level_three</td>\n",
       "      <td>regular</td>\n",
       "      <td>no</td>\n",
       "    </tr>\n",
       "  </tbody>\n",
       "</table>\n",
       "</div>"
      ],
      "text/plain": [
       "  year_month year_week is_waterfront  price_level status_condition renovated\n",
       "0    2014-10   2014-41            no    level_one          regular        no\n",
       "1    2014-12   2014-49            no  level_three          regular       yes\n",
       "2    2015-02   2015-08            no    level_one          regular        no\n",
       "3    2014-12   2014-49            no  level_three         excelent        no\n",
       "4    2015-02   2015-07            no  level_three          regular        no"
      ]
     },
     "execution_count": 32,
     "metadata": {},
     "output_type": "execute_result"
    }
   ],
   "source": [
    "cat_attributes.head()"
   ]
  },
  {
   "cell_type": "markdown",
   "id": "709f1ccc",
   "metadata": {},
   "source": [
    "## 4.1. Univariate Analysis"
   ]
  },
  {
   "cell_type": "markdown",
   "id": "7c382cda",
   "metadata": {
    "ExecuteTime": {
     "end_time": "2022-01-27T02:50:38.983821Z",
     "start_time": "2022-01-27T02:50:38.973823Z"
    }
   },
   "source": [
    "### 4.1.1. Response Variable"
   ]
  },
  {
   "cell_type": "code",
   "execution_count": 35,
   "id": "56431b4c",
   "metadata": {
    "ExecuteTime": {
     "end_time": "2022-01-27T02:51:08.760228Z",
     "start_time": "2022-01-27T02:51:08.399213Z"
    }
   },
   "outputs": [
    {
     "data": {
      "image/png": "[encoded data removed]",
      "text/plain": [
       "<Figure size 1800x864 with 1 Axes>"
      ]
     },
     "metadata": {},
     "output_type": "display_data"
    }
   ],
   "source": [
    "sns.distplot( data['price'], kde=False );"
   ]
  },
  {
   "cell_type": "markdown",
   "id": "84a5ac84",
   "metadata": {},
   "source": [
    "### 4.1.2. Numerical Variable"
   ]
  },
  {
   "cell_type": "code",
   "execution_count": 38,
   "id": "f258d6b1",
   "metadata": {
    "ExecuteTime": {
     "end_time": "2022-01-27T02:52:38.414040Z",
     "start_time": "2022-01-27T02:52:34.341042Z"
    }
   },
   "outputs": [
    {
     "data": {
      "image/png": "[encoded data removed]",
      "text/plain": [
       "<Figure size 1800x864 with 20 Axes>"
      ]
     },
     "metadata": {},
     "output_type": "display_data"
    }
   ],
   "source": [
    "num_attributes.hist( bins=25 );"
   ]
  },
  {
   "cell_type": "markdown",
   "id": "06a60f9b",
   "metadata": {},
   "source": [
    "### 4.1.3. Categorical Variable"
   ]
  },
  {
   "cell_type": "code",
   "execution_count": 48,
   "id": "db3e887e",
   "metadata": {
    "ExecuteTime": {
     "end_time": "2022-01-27T03:03:19.410770Z",
     "start_time": "2022-01-27T03:03:16.830727Z"
    }
   },
   "outputs": [
    {
     "data": {
      "image/png": "[encoded data removed]",
      "text/plain": [
       "<Figure size 1800x864 with 6 Axes>"
      ]
     },
     "metadata": {},
     "output_type": "display_data"
    }
   ],
   "source": [
    "# waterfront \n",
    "plt.subplot( 3, 2, 1 )\n",
    "sns.countplot( cat_attributes['is_waterfront'] );\n",
    "\n",
    "plt.subplot( 3, 2, 2 )\n",
    "sns.kdeplot( data[data['is_waterfront'] == 'no']['price'], label='no', shade=True );\n",
    "sns.kdeplot( data[data['is_waterfront'] == 'yes']['price'], label='yes', shade=True );\n",
    "plt.legend();\n",
    "\n",
    "# price level \n",
    "plt.subplot( 3, 2, 3 )\n",
    "sns.countplot( cat_attributes['price_level'], order=['level_one', 'level_two', 'level_three', 'level_four'] );\n",
    "\n",
    "plt.subplot( 3, 2, 4 )\n",
    "sns.kdeplot( data[data['price_level'] == 'level_one']['price'], label='level_one', shade=True );\n",
    "sns.kdeplot( data[data['price_level'] == 'level_two']['price'], label='level_two', shade=True );\n",
    "sns.kdeplot( data[data['price_level'] == 'level_three']['price'], label='level_three', shade=True );\n",
    "sns.kdeplot( data[data['price_level'] == 'level_four']['price'], label='level_four', shade=True );\n",
    "plt.legend();\n",
    "\n",
    "#status condition\n",
    "plt.subplot( 3, 2, 5 )\n",
    "sns.countplot( cat_attributes['status_condition'], order=['bad', 'regular', 'good', 'excelent'] );\n",
    "\n",
    "plt.subplot( 3, 2, 6 )\n",
    "sns.kdeplot( data[data['status_condition'] == 'bad']['price'], label='bad', shade=True );\n",
    "sns.kdeplot( data[data['status_condition'] == 'regular']['price'], label='regular', shade=True );\n",
    "sns.kdeplot( data[data['status_condition'] == 'good']['price'], label='good', shade=True );\n",
    "sns.kdeplot( data[data['status_condition'] == 'excelent']['price'], label='excelent', shade=True );\n",
    "plt.legend();"
   ]
  },
  {
   "cell_type": "code",
   "execution_count": 49,
   "id": "f5dce8a5",
   "metadata": {
    "ExecuteTime": {
     "end_time": "2022-01-27T03:04:14.834182Z",
     "start_time": "2022-01-27T03:04:14.816176Z"
    }
   },
   "outputs": [],
   "source": [
    "## 4.2. Bivariate Analysis"
   ]
  },
  {
   "cell_type": "code",
   "execution_count": null,
   "id": "e8203004",
   "metadata": {},
   "outputs": [],
   "source": []
  },
  {
   "cell_type": "code",
   "execution_count": null,
   "id": "f3a3f76b",
   "metadata": {},
   "outputs": [],
   "source": []
  },
  {
   "cell_type": "markdown",
   "id": "d4628b80",
   "metadata": {
    "ExecuteTime": {
     "end_time": "2022-01-25T13:57:33.536780Z",
     "start_time": "2022-01-25T13:57:33.532840Z"
    },
    "heading_collapsed": true
   },
   "source": [
    "# 5.0 Data Transform"
   ]
  },
  {
   "cell_type": "code",
   "execution_count": null,
   "id": "a98be440",
   "metadata": {
    "hidden": true
   },
   "outputs": [],
   "source": []
  },
  {
   "cell_type": "code",
   "execution_count": null,
   "id": "ac4728a4",
   "metadata": {
    "hidden": true
   },
   "outputs": [],
   "source": []
  },
  {
   "cell_type": "code",
   "execution_count": null,
   "id": "04ae3638",
   "metadata": {
    "hidden": true
   },
   "outputs": [],
   "source": []
  },
  {
   "cell_type": "code",
   "execution_count": null,
   "id": "0a62d4df",
   "metadata": {
    "hidden": true
   },
   "outputs": [],
   "source": []
  }
 ],
 "metadata": {
  "kernelspec": {
   "display_name": "Python 3 (ipykernel)",
   "language": "python",
   "name": "python3"
  },
  "language_info": {
   "codemirror_mode": {
    "name": "ipython",
    "version": 3
   },
   "file_extension": ".py",
   "mimetype": "text/x-python",
   "name": "python",
   "nbconvert_exporter": "python",
   "pygments_lexer": "ipython3",
   "version": "3.8.11"
  }
 },
 "nbformat": 4,
 "nbformat_minor": 5
}
