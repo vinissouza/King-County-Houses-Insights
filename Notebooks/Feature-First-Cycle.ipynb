{
 "cells": [
  {
   "cell_type": "markdown",
   "id": "69af492f",
   "metadata": {},
   "source": [
    "# 0.0 Imports"
   ]
  },
  {
   "cell_type": "code",
   "execution_count": 60,
   "id": "bdc13ccf",
   "metadata": {
    "ExecuteTime": {
     "end_time": "2022-01-25T18:38:26.970803Z",
     "start_time": "2022-01-25T18:38:23.827980Z"
    }
   },
   "outputs": [
    {
     "ename": "NameError",
     "evalue": "name 'warnings' is not defined",
     "output_type": "error",
     "traceback": [
      "\u001b[1;31m---------------------------------------------------------------------------\u001b[0m",
      "\u001b[1;31mNameError\u001b[0m                                 Traceback (most recent call last)",
      "\u001b[1;32m~\\AppData\\Local\\Temp/ipykernel_12004/3926818089.py\u001b[0m in \u001b[0;36m<module>\u001b[1;34m\u001b[0m\n\u001b[0;32m      9\u001b[0m \u001b[1;32mfrom\u001b[0m \u001b[0mIPython\u001b[0m\u001b[1;33m.\u001b[0m\u001b[0mcore\u001b[0m\u001b[1;33m.\u001b[0m\u001b[0mdisplay\u001b[0m \u001b[1;32mimport\u001b[0m \u001b[0mHTML\u001b[0m\u001b[1;33m\u001b[0m\u001b[1;33m\u001b[0m\u001b[0m\n\u001b[0;32m     10\u001b[0m \u001b[1;33m\u001b[0m\u001b[0m\n\u001b[1;32m---> 11\u001b[1;33m \u001b[0mwarnings\u001b[0m\u001b[1;33m.\u001b[0m\u001b[0mfilterwarnings\u001b[0m\u001b[1;33m(\u001b[0m \u001b[1;34m'ignore'\u001b[0m \u001b[1;33m)\u001b[0m\u001b[1;33m\u001b[0m\u001b[1;33m\u001b[0m\u001b[0m\n\u001b[0m\u001b[0;32m     12\u001b[0m \u001b[0mpd\u001b[0m\u001b[1;33m.\u001b[0m\u001b[0mset_option\u001b[0m\u001b[1;33m(\u001b[0m\u001b[1;34m'display.float_format'\u001b[0m\u001b[1;33m,\u001b[0m \u001b[1;32mlambda\u001b[0m \u001b[0mx\u001b[0m\u001b[1;33m:\u001b[0m \u001b[1;34m'%.2f'\u001b[0m \u001b[1;33m%\u001b[0m \u001b[0mx\u001b[0m\u001b[1;33m)\u001b[0m\u001b[1;33m\u001b[0m\u001b[1;33m\u001b[0m\u001b[0m\n",
      "\u001b[1;31mNameError\u001b[0m: name 'warnings' is not defined"
     ]
    }
   ],
   "source": [
    "import numpy          as np\n",
    "import pandas         as pd\n",
    "import seaborn        as sns\n",
    "import plotly.express as px\n",
    "\n",
    "from matplotlib           import pyplot    as plt\n",
    "from matplotlib           import gridspec\n",
    "from IPython.display      import display\n",
    "from IPython.core.display import HTML\n",
    "\n",
    "warnings.filterwarnings( 'ignore' )\n",
    "pd.set_option('display.float_format', lambda x: '%.2f' % x)"
   ]
  },
  {
   "cell_type": "markdown",
   "id": "f668521e",
   "metadata": {
    "ExecuteTime": {
     "end_time": "2022-01-25T15:56:31.845588Z",
     "start_time": "2022-01-25T15:56:31.830598Z"
    }
   },
   "source": [
    "## 0.1 Load Data"
   ]
  },
  {
   "cell_type": "code",
   "execution_count": null,
   "id": "1eccd861",
   "metadata": {
    "ExecuteTime": {
     "end_time": "2022-01-25T18:38:26.982807Z",
     "start_time": "2022-01-25T18:38:26.982807Z"
    }
   },
   "outputs": [],
   "source": [
    "data = pd.read_csv('../Datasets/kc_house_data.csv')"
   ]
  },
  {
   "cell_type": "markdown",
   "id": "fcebf1a0",
   "metadata": {},
   "source": [
    "## 0.2 Auxiliar Functions"
   ]
  },
  {
   "cell_type": "code",
   "execution_count": 61,
   "id": "bb89b3b8",
   "metadata": {
    "ExecuteTime": {
     "end_time": "2022-01-25T18:38:27.966881Z",
     "start_time": "2022-01-25T18:38:27.951076Z"
    }
   },
   "outputs": [],
   "source": [
    "def jupyter_settings():\n",
    "    %matplotlib inline\n",
    "    %pylab inline\n",
    "    plt.style.use( 'bmh' )\n",
    "    plt.rcParams['figure.figsize'] = [25, 12]\n",
    "    plt.rcParams['font.size'] = 24\n",
    "    display( HTML( '<style>.container { width:100% !important; }</style>') )\n",
    "    pd.options.display.max_columns = None\n",
    "    pd.options.display.max_rows = None\n",
    "    pd.set_option( 'display.expand_frame_repr', False )\n",
    "    sns.set()"
   ]
  },
  {
   "cell_type": "code",
   "execution_count": 62,
   "id": "9b8c06c5",
   "metadata": {
    "ExecuteTime": {
     "end_time": "2022-01-25T18:38:28.785513Z",
     "start_time": "2022-01-25T18:38:28.768525Z"
    }
   },
   "outputs": [
    {
     "name": "stdout",
     "output_type": "stream",
     "text": [
      "Populating the interactive namespace from numpy and matplotlib\n"
     ]
    },
    {
     "data": {
      "text/html": [
       "<style>.container { width:100% !important; }</style>"
      ],
      "text/plain": [
       "<IPython.core.display.HTML object>"
      ]
     },
     "metadata": {},
     "output_type": "display_data"
    }
   ],
   "source": [
    "jupyter_settings()"
   ]
  },
  {
   "cell_type": "markdown",
   "id": "4a32364c",
   "metadata": {
    "ExecuteTime": {
     "end_time": "2022-01-25T13:56:03.885741Z",
     "start_time": "2022-01-25T13:56:03.874740Z"
    }
   },
   "source": [
    "# 1.0 Data Description"
   ]
  },
  {
   "cell_type": "code",
   "execution_count": 4,
   "id": "6bf4f65f",
   "metadata": {
    "ExecuteTime": {
     "end_time": "2022-01-25T16:01:04.583117Z",
     "start_time": "2022-01-25T16:01:04.500993Z"
    }
   },
   "outputs": [
    {
     "data": {
      "text/html": [
       "<div>\n",
       "<style scoped>\n",
       "    .dataframe tbody tr th:only-of-type {\n",
       "        vertical-align: middle;\n",
       "    }\n",
       "\n",
       "    .dataframe tbody tr th {\n",
       "        vertical-align: top;\n",
       "    }\n",
       "\n",
       "    .dataframe thead th {\n",
       "        text-align: right;\n",
       "    }\n",
       "</style>\n",
       "<table border=\"1\" class=\"dataframe\">\n",
       "  <thead>\n",
       "    <tr style=\"text-align: right;\">\n",
       "      <th></th>\n",
       "      <th>id</th>\n",
       "      <th>date</th>\n",
       "      <th>price</th>\n",
       "      <th>bedrooms</th>\n",
       "      <th>bathrooms</th>\n",
       "      <th>sqft_living</th>\n",
       "      <th>sqft_lot</th>\n",
       "      <th>floors</th>\n",
       "      <th>waterfront</th>\n",
       "      <th>view</th>\n",
       "      <th>...</th>\n",
       "      <th>grade</th>\n",
       "      <th>sqft_above</th>\n",
       "      <th>sqft_basement</th>\n",
       "      <th>yr_built</th>\n",
       "      <th>yr_renovated</th>\n",
       "      <th>zipcode</th>\n",
       "      <th>lat</th>\n",
       "      <th>long</th>\n",
       "      <th>sqft_living15</th>\n",
       "      <th>sqft_lot15</th>\n",
       "    </tr>\n",
       "  </thead>\n",
       "  <tbody>\n",
       "    <tr>\n",
       "      <th>0</th>\n",
       "      <td>7129300520</td>\n",
       "      <td>20141013T000000</td>\n",
       "      <td>221900.0</td>\n",
       "      <td>3</td>\n",
       "      <td>1.00</td>\n",
       "      <td>1180</td>\n",
       "      <td>5650</td>\n",
       "      <td>1.0</td>\n",
       "      <td>0</td>\n",
       "      <td>0</td>\n",
       "      <td>...</td>\n",
       "      <td>7</td>\n",
       "      <td>1180</td>\n",
       "      <td>0</td>\n",
       "      <td>1955</td>\n",
       "      <td>0</td>\n",
       "      <td>98178</td>\n",
       "      <td>47.5112</td>\n",
       "      <td>-122.257</td>\n",
       "      <td>1340</td>\n",
       "      <td>5650</td>\n",
       "    </tr>\n",
       "    <tr>\n",
       "      <th>1</th>\n",
       "      <td>6414100192</td>\n",
       "      <td>20141209T000000</td>\n",
       "      <td>538000.0</td>\n",
       "      <td>3</td>\n",
       "      <td>2.25</td>\n",
       "      <td>2570</td>\n",
       "      <td>7242</td>\n",
       "      <td>2.0</td>\n",
       "      <td>0</td>\n",
       "      <td>0</td>\n",
       "      <td>...</td>\n",
       "      <td>7</td>\n",
       "      <td>2170</td>\n",
       "      <td>400</td>\n",
       "      <td>1951</td>\n",
       "      <td>1991</td>\n",
       "      <td>98125</td>\n",
       "      <td>47.7210</td>\n",
       "      <td>-122.319</td>\n",
       "      <td>1690</td>\n",
       "      <td>7639</td>\n",
       "    </tr>\n",
       "    <tr>\n",
       "      <th>2</th>\n",
       "      <td>5631500400</td>\n",
       "      <td>20150225T000000</td>\n",
       "      <td>180000.0</td>\n",
       "      <td>2</td>\n",
       "      <td>1.00</td>\n",
       "      <td>770</td>\n",
       "      <td>10000</td>\n",
       "      <td>1.0</td>\n",
       "      <td>0</td>\n",
       "      <td>0</td>\n",
       "      <td>...</td>\n",
       "      <td>6</td>\n",
       "      <td>770</td>\n",
       "      <td>0</td>\n",
       "      <td>1933</td>\n",
       "      <td>0</td>\n",
       "      <td>98028</td>\n",
       "      <td>47.7379</td>\n",
       "      <td>-122.233</td>\n",
       "      <td>2720</td>\n",
       "      <td>8062</td>\n",
       "    </tr>\n",
       "    <tr>\n",
       "      <th>3</th>\n",
       "      <td>2487200875</td>\n",
       "      <td>20141209T000000</td>\n",
       "      <td>604000.0</td>\n",
       "      <td>4</td>\n",
       "      <td>3.00</td>\n",
       "      <td>1960</td>\n",
       "      <td>5000</td>\n",
       "      <td>1.0</td>\n",
       "      <td>0</td>\n",
       "      <td>0</td>\n",
       "      <td>...</td>\n",
       "      <td>7</td>\n",
       "      <td>1050</td>\n",
       "      <td>910</td>\n",
       "      <td>1965</td>\n",
       "      <td>0</td>\n",
       "      <td>98136</td>\n",
       "      <td>47.5208</td>\n",
       "      <td>-122.393</td>\n",
       "      <td>1360</td>\n",
       "      <td>5000</td>\n",
       "    </tr>\n",
       "    <tr>\n",
       "      <th>4</th>\n",
       "      <td>1954400510</td>\n",
       "      <td>20150218T000000</td>\n",
       "      <td>510000.0</td>\n",
       "      <td>3</td>\n",
       "      <td>2.00</td>\n",
       "      <td>1680</td>\n",
       "      <td>8080</td>\n",
       "      <td>1.0</td>\n",
       "      <td>0</td>\n",
       "      <td>0</td>\n",
       "      <td>...</td>\n",
       "      <td>8</td>\n",
       "      <td>1680</td>\n",
       "      <td>0</td>\n",
       "      <td>1987</td>\n",
       "      <td>0</td>\n",
       "      <td>98074</td>\n",
       "      <td>47.6168</td>\n",
       "      <td>-122.045</td>\n",
       "      <td>1800</td>\n",
       "      <td>7503</td>\n",
       "    </tr>\n",
       "    <tr>\n",
       "      <th>...</th>\n",
       "      <td>...</td>\n",
       "      <td>...</td>\n",
       "      <td>...</td>\n",
       "      <td>...</td>\n",
       "      <td>...</td>\n",
       "      <td>...</td>\n",
       "      <td>...</td>\n",
       "      <td>...</td>\n",
       "      <td>...</td>\n",
       "      <td>...</td>\n",
       "      <td>...</td>\n",
       "      <td>...</td>\n",
       "      <td>...</td>\n",
       "      <td>...</td>\n",
       "      <td>...</td>\n",
       "      <td>...</td>\n",
       "      <td>...</td>\n",
       "      <td>...</td>\n",
       "      <td>...</td>\n",
       "      <td>...</td>\n",
       "      <td>...</td>\n",
       "    </tr>\n",
       "    <tr>\n",
       "      <th>21608</th>\n",
       "      <td>263000018</td>\n",
       "      <td>20140521T000000</td>\n",
       "      <td>360000.0</td>\n",
       "      <td>3</td>\n",
       "      <td>2.50</td>\n",
       "      <td>1530</td>\n",
       "      <td>1131</td>\n",
       "      <td>3.0</td>\n",
       "      <td>0</td>\n",
       "      <td>0</td>\n",
       "      <td>...</td>\n",
       "      <td>8</td>\n",
       "      <td>1530</td>\n",
       "      <td>0</td>\n",
       "      <td>2009</td>\n",
       "      <td>0</td>\n",
       "      <td>98103</td>\n",
       "      <td>47.6993</td>\n",
       "      <td>-122.346</td>\n",
       "      <td>1530</td>\n",
       "      <td>1509</td>\n",
       "    </tr>\n",
       "    <tr>\n",
       "      <th>21609</th>\n",
       "      <td>6600060120</td>\n",
       "      <td>20150223T000000</td>\n",
       "      <td>400000.0</td>\n",
       "      <td>4</td>\n",
       "      <td>2.50</td>\n",
       "      <td>2310</td>\n",
       "      <td>5813</td>\n",
       "      <td>2.0</td>\n",
       "      <td>0</td>\n",
       "      <td>0</td>\n",
       "      <td>...</td>\n",
       "      <td>8</td>\n",
       "      <td>2310</td>\n",
       "      <td>0</td>\n",
       "      <td>2014</td>\n",
       "      <td>0</td>\n",
       "      <td>98146</td>\n",
       "      <td>47.5107</td>\n",
       "      <td>-122.362</td>\n",
       "      <td>1830</td>\n",
       "      <td>7200</td>\n",
       "    </tr>\n",
       "    <tr>\n",
       "      <th>21610</th>\n",
       "      <td>1523300141</td>\n",
       "      <td>20140623T000000</td>\n",
       "      <td>402101.0</td>\n",
       "      <td>2</td>\n",
       "      <td>0.75</td>\n",
       "      <td>1020</td>\n",
       "      <td>1350</td>\n",
       "      <td>2.0</td>\n",
       "      <td>0</td>\n",
       "      <td>0</td>\n",
       "      <td>...</td>\n",
       "      <td>7</td>\n",
       "      <td>1020</td>\n",
       "      <td>0</td>\n",
       "      <td>2009</td>\n",
       "      <td>0</td>\n",
       "      <td>98144</td>\n",
       "      <td>47.5944</td>\n",
       "      <td>-122.299</td>\n",
       "      <td>1020</td>\n",
       "      <td>2007</td>\n",
       "    </tr>\n",
       "    <tr>\n",
       "      <th>21611</th>\n",
       "      <td>291310100</td>\n",
       "      <td>20150116T000000</td>\n",
       "      <td>400000.0</td>\n",
       "      <td>3</td>\n",
       "      <td>2.50</td>\n",
       "      <td>1600</td>\n",
       "      <td>2388</td>\n",
       "      <td>2.0</td>\n",
       "      <td>0</td>\n",
       "      <td>0</td>\n",
       "      <td>...</td>\n",
       "      <td>8</td>\n",
       "      <td>1600</td>\n",
       "      <td>0</td>\n",
       "      <td>2004</td>\n",
       "      <td>0</td>\n",
       "      <td>98027</td>\n",
       "      <td>47.5345</td>\n",
       "      <td>-122.069</td>\n",
       "      <td>1410</td>\n",
       "      <td>1287</td>\n",
       "    </tr>\n",
       "    <tr>\n",
       "      <th>21612</th>\n",
       "      <td>1523300157</td>\n",
       "      <td>20141015T000000</td>\n",
       "      <td>325000.0</td>\n",
       "      <td>2</td>\n",
       "      <td>0.75</td>\n",
       "      <td>1020</td>\n",
       "      <td>1076</td>\n",
       "      <td>2.0</td>\n",
       "      <td>0</td>\n",
       "      <td>0</td>\n",
       "      <td>...</td>\n",
       "      <td>7</td>\n",
       "      <td>1020</td>\n",
       "      <td>0</td>\n",
       "      <td>2008</td>\n",
       "      <td>0</td>\n",
       "      <td>98144</td>\n",
       "      <td>47.5941</td>\n",
       "      <td>-122.299</td>\n",
       "      <td>1020</td>\n",
       "      <td>1357</td>\n",
       "    </tr>\n",
       "  </tbody>\n",
       "</table>\n",
       "<p>21613 rows × 21 columns</p>\n",
       "</div>"
      ],
      "text/plain": [
       "               id             date     price  bedrooms  bathrooms  \\\n",
       "0      7129300520  20141013T000000  221900.0         3       1.00   \n",
       "1      6414100192  20141209T000000  538000.0         3       2.25   \n",
       "2      5631500400  20150225T000000  180000.0         2       1.00   \n",
       "3      2487200875  20141209T000000  604000.0         4       3.00   \n",
       "4      1954400510  20150218T000000  510000.0         3       2.00   \n",
       "...           ...              ...       ...       ...        ...   \n",
       "21608   263000018  20140521T000000  360000.0         3       2.50   \n",
       "21609  6600060120  20150223T000000  400000.0         4       2.50   \n",
       "21610  1523300141  20140623T000000  402101.0         2       0.75   \n",
       "21611   291310100  20150116T000000  400000.0         3       2.50   \n",
       "21612  1523300157  20141015T000000  325000.0         2       0.75   \n",
       "\n",
       "       sqft_living  sqft_lot  floors  waterfront  view  ...  grade  \\\n",
       "0             1180      5650     1.0           0     0  ...      7   \n",
       "1             2570      7242     2.0           0     0  ...      7   \n",
       "2              770     10000     1.0           0     0  ...      6   \n",
       "3             1960      5000     1.0           0     0  ...      7   \n",
       "4             1680      8080     1.0           0     0  ...      8   \n",
       "...            ...       ...     ...         ...   ...  ...    ...   \n",
       "21608         1530      1131     3.0           0     0  ...      8   \n",
       "21609         2310      5813     2.0           0     0  ...      8   \n",
       "21610         1020      1350     2.0           0     0  ...      7   \n",
       "21611         1600      2388     2.0           0     0  ...      8   \n",
       "21612         1020      1076     2.0           0     0  ...      7   \n",
       "\n",
       "       sqft_above  sqft_basement  yr_built  yr_renovated  zipcode      lat  \\\n",
       "0            1180              0      1955             0    98178  47.5112   \n",
       "1            2170            400      1951          1991    98125  47.7210   \n",
       "2             770              0      1933             0    98028  47.7379   \n",
       "3            1050            910      1965             0    98136  47.5208   \n",
       "4            1680              0      1987             0    98074  47.6168   \n",
       "...           ...            ...       ...           ...      ...      ...   \n",
       "21608        1530              0      2009             0    98103  47.6993   \n",
       "21609        2310              0      2014             0    98146  47.5107   \n",
       "21610        1020              0      2009             0    98144  47.5944   \n",
       "21611        1600              0      2004             0    98027  47.5345   \n",
       "21612        1020              0      2008             0    98144  47.5941   \n",
       "\n",
       "          long  sqft_living15  sqft_lot15  \n",
       "0     -122.257           1340        5650  \n",
       "1     -122.319           1690        7639  \n",
       "2     -122.233           2720        8062  \n",
       "3     -122.393           1360        5000  \n",
       "4     -122.045           1800        7503  \n",
       "...        ...            ...         ...  \n",
       "21608 -122.346           1530        1509  \n",
       "21609 -122.362           1830        7200  \n",
       "21610 -122.299           1020        2007  \n",
       "21611 -122.069           1410        1287  \n",
       "21612 -122.299           1020        1357  \n",
       "\n",
       "[21613 rows x 21 columns]"
      ]
     },
     "metadata": {},
     "output_type": "display_data"
    }
   ],
   "source": [
    "display(data)"
   ]
  },
  {
   "cell_type": "markdown",
   "id": "bc8876d0",
   "metadata": {},
   "source": [
    "## 1.1 Data Types"
   ]
  },
  {
   "cell_type": "code",
   "execution_count": 25,
   "id": "c52ca259",
   "metadata": {
    "ExecuteTime": {
     "end_time": "2022-01-25T16:08:34.874772Z",
     "start_time": "2022-01-25T16:08:34.837775Z"
    },
    "scrolled": true
   },
   "outputs": [
    {
     "name": "stdout",
     "output_type": "stream",
     "text": [
      "<class 'pandas.core.frame.DataFrame'>\n",
      "RangeIndex: 21613 entries, 0 to 21612\n",
      "Data columns (total 21 columns):\n",
      " #   Column         Non-Null Count  Dtype  \n",
      "---  ------         --------------  -----  \n",
      " 0   id             21613 non-null  int64  \n",
      " 1   date           21613 non-null  object \n",
      " 2   price          21613 non-null  float64\n",
      " 3   bedrooms       21613 non-null  int64  \n",
      " 4   bathrooms      21613 non-null  float64\n",
      " 5   sqft_living    21613 non-null  int64  \n",
      " 6   sqft_lot       21613 non-null  int64  \n",
      " 7   floors         21613 non-null  float64\n",
      " 8   waterfront     21613 non-null  int64  \n",
      " 9   view           21613 non-null  int64  \n",
      " 10  condition      21613 non-null  int64  \n",
      " 11  grade          21613 non-null  int64  \n",
      " 12  sqft_above     21613 non-null  int64  \n",
      " 13  sqft_basement  21613 non-null  int64  \n",
      " 14  yr_built       21613 non-null  int64  \n",
      " 15  yr_renovated   21613 non-null  int64  \n",
      " 16  zipcode        21613 non-null  int64  \n",
      " 17  lat            21613 non-null  float64\n",
      " 18  long           21613 non-null  float64\n",
      " 19  sqft_living15  21613 non-null  int64  \n",
      " 20  sqft_lot15     21613 non-null  int64  \n",
      "dtypes: float64(5), int64(15), object(1)\n",
      "memory usage: 4.8 MB\n",
      "None\n"
     ]
    }
   ],
   "source": [
    "print(data.info(memory_usage='deep'))"
   ]
  },
  {
   "cell_type": "markdown",
   "id": "7fcca1d1",
   "metadata": {
    "ExecuteTime": {
     "end_time": "2022-01-25T16:03:49.636621Z",
     "start_time": "2022-01-25T16:03:49.629619Z"
    }
   },
   "source": [
    "## 1.2 Data Dimensions"
   ]
  },
  {
   "cell_type": "code",
   "execution_count": 27,
   "id": "c6b13e1e",
   "metadata": {
    "ExecuteTime": {
     "end_time": "2022-01-25T16:08:50.518745Z",
     "start_time": "2022-01-25T16:08:50.509744Z"
    }
   },
   "outputs": [
    {
     "name": "stdout",
     "output_type": "stream",
     "text": [
      "Number of rows: 21613 \n",
      "Number of columns: 21\n"
     ]
    }
   ],
   "source": [
    "print(f'Number of rows: {data.shape[0]} \\nNumber of columns: {data.shape[1]}')"
   ]
  },
  {
   "cell_type": "code",
   "execution_count": null,
   "id": "4a9517d7",
   "metadata": {},
   "outputs": [],
   "source": [
    "## 1.3 Numerical Descriptive"
   ]
  },
  {
   "cell_type": "markdown",
   "id": "62f33068",
   "metadata": {},
   "source": [
    "## 1.3 Descriptive Statistics"
   ]
  },
  {
   "cell_type": "code",
   "execution_count": 30,
   "id": "8fddf122",
   "metadata": {
    "ExecuteTime": {
     "end_time": "2022-01-25T16:17:10.177935Z",
     "start_time": "2022-01-25T16:17:10.102242Z"
    }
   },
   "outputs": [
    {
     "data": {
      "text/html": [
       "<div>\n",
       "<style scoped>\n",
       "    .dataframe tbody tr th:only-of-type {\n",
       "        vertical-align: middle;\n",
       "    }\n",
       "\n",
       "    .dataframe tbody tr th {\n",
       "        vertical-align: top;\n",
       "    }\n",
       "\n",
       "    .dataframe thead th {\n",
       "        text-align: right;\n",
       "    }\n",
       "</style>\n",
       "<table border=\"1\" class=\"dataframe\">\n",
       "  <thead>\n",
       "    <tr style=\"text-align: right;\">\n",
       "      <th></th>\n",
       "      <th>attributes</th>\n",
       "      <th>maximo</th>\n",
       "      <th>minimum</th>\n",
       "      <th>mean</th>\n",
       "      <th>median</th>\n",
       "      <th>std</th>\n",
       "    </tr>\n",
       "  </thead>\n",
       "  <tbody>\n",
       "    <tr>\n",
       "      <th>0</th>\n",
       "      <td>id</td>\n",
       "      <td>9900000190.00</td>\n",
       "      <td>1000102.00</td>\n",
       "      <td>4580301520.86</td>\n",
       "      <td>3904930410.00</td>\n",
       "      <td>2876499023.43</td>\n",
       "    </tr>\n",
       "    <tr>\n",
       "      <th>1</th>\n",
       "      <td>price</td>\n",
       "      <td>7700000.00</td>\n",
       "      <td>75000.00</td>\n",
       "      <td>540088.14</td>\n",
       "      <td>450000.00</td>\n",
       "      <td>367118.70</td>\n",
       "    </tr>\n",
       "    <tr>\n",
       "      <th>2</th>\n",
       "      <td>bedrooms</td>\n",
       "      <td>33.00</td>\n",
       "      <td>0.00</td>\n",
       "      <td>3.37</td>\n",
       "      <td>3.00</td>\n",
       "      <td>0.93</td>\n",
       "    </tr>\n",
       "    <tr>\n",
       "      <th>3</th>\n",
       "      <td>bathrooms</td>\n",
       "      <td>8.00</td>\n",
       "      <td>0.00</td>\n",
       "      <td>2.11</td>\n",
       "      <td>2.25</td>\n",
       "      <td>0.77</td>\n",
       "    </tr>\n",
       "    <tr>\n",
       "      <th>4</th>\n",
       "      <td>sqft_living</td>\n",
       "      <td>13540.00</td>\n",
       "      <td>290.00</td>\n",
       "      <td>2079.90</td>\n",
       "      <td>1910.00</td>\n",
       "      <td>918.42</td>\n",
       "    </tr>\n",
       "    <tr>\n",
       "      <th>5</th>\n",
       "      <td>sqft_lot</td>\n",
       "      <td>1651359.00</td>\n",
       "      <td>520.00</td>\n",
       "      <td>15106.97</td>\n",
       "      <td>7618.00</td>\n",
       "      <td>41419.55</td>\n",
       "    </tr>\n",
       "    <tr>\n",
       "      <th>6</th>\n",
       "      <td>floors</td>\n",
       "      <td>3.50</td>\n",
       "      <td>1.00</td>\n",
       "      <td>1.49</td>\n",
       "      <td>1.50</td>\n",
       "      <td>0.54</td>\n",
       "    </tr>\n",
       "    <tr>\n",
       "      <th>7</th>\n",
       "      <td>waterfront</td>\n",
       "      <td>1.00</td>\n",
       "      <td>0.00</td>\n",
       "      <td>0.01</td>\n",
       "      <td>0.00</td>\n",
       "      <td>0.09</td>\n",
       "    </tr>\n",
       "    <tr>\n",
       "      <th>8</th>\n",
       "      <td>view</td>\n",
       "      <td>4.00</td>\n",
       "      <td>0.00</td>\n",
       "      <td>0.23</td>\n",
       "      <td>0.00</td>\n",
       "      <td>0.77</td>\n",
       "    </tr>\n",
       "    <tr>\n",
       "      <th>9</th>\n",
       "      <td>condition</td>\n",
       "      <td>5.00</td>\n",
       "      <td>1.00</td>\n",
       "      <td>3.41</td>\n",
       "      <td>3.00</td>\n",
       "      <td>0.65</td>\n",
       "    </tr>\n",
       "    <tr>\n",
       "      <th>10</th>\n",
       "      <td>grade</td>\n",
       "      <td>13.00</td>\n",
       "      <td>1.00</td>\n",
       "      <td>7.66</td>\n",
       "      <td>7.00</td>\n",
       "      <td>1.18</td>\n",
       "    </tr>\n",
       "    <tr>\n",
       "      <th>11</th>\n",
       "      <td>sqft_above</td>\n",
       "      <td>9410.00</td>\n",
       "      <td>290.00</td>\n",
       "      <td>1788.39</td>\n",
       "      <td>1560.00</td>\n",
       "      <td>828.07</td>\n",
       "    </tr>\n",
       "    <tr>\n",
       "      <th>12</th>\n",
       "      <td>sqft_basement</td>\n",
       "      <td>4820.00</td>\n",
       "      <td>0.00</td>\n",
       "      <td>291.51</td>\n",
       "      <td>0.00</td>\n",
       "      <td>442.56</td>\n",
       "    </tr>\n",
       "    <tr>\n",
       "      <th>13</th>\n",
       "      <td>yr_built</td>\n",
       "      <td>2015.00</td>\n",
       "      <td>1900.00</td>\n",
       "      <td>1971.01</td>\n",
       "      <td>1975.00</td>\n",
       "      <td>29.37</td>\n",
       "    </tr>\n",
       "    <tr>\n",
       "      <th>14</th>\n",
       "      <td>yr_renovated</td>\n",
       "      <td>2015.00</td>\n",
       "      <td>0.00</td>\n",
       "      <td>84.40</td>\n",
       "      <td>0.00</td>\n",
       "      <td>401.67</td>\n",
       "    </tr>\n",
       "    <tr>\n",
       "      <th>15</th>\n",
       "      <td>zipcode</td>\n",
       "      <td>98199.00</td>\n",
       "      <td>98001.00</td>\n",
       "      <td>98077.94</td>\n",
       "      <td>98065.00</td>\n",
       "      <td>53.50</td>\n",
       "    </tr>\n",
       "    <tr>\n",
       "      <th>16</th>\n",
       "      <td>lat</td>\n",
       "      <td>47.78</td>\n",
       "      <td>47.16</td>\n",
       "      <td>47.56</td>\n",
       "      <td>47.57</td>\n",
       "      <td>0.14</td>\n",
       "    </tr>\n",
       "    <tr>\n",
       "      <th>17</th>\n",
       "      <td>long</td>\n",
       "      <td>-121.31</td>\n",
       "      <td>-122.52</td>\n",
       "      <td>-122.21</td>\n",
       "      <td>-122.23</td>\n",
       "      <td>0.14</td>\n",
       "    </tr>\n",
       "    <tr>\n",
       "      <th>18</th>\n",
       "      <td>sqft_living15</td>\n",
       "      <td>6210.00</td>\n",
       "      <td>399.00</td>\n",
       "      <td>1986.55</td>\n",
       "      <td>1840.00</td>\n",
       "      <td>685.38</td>\n",
       "    </tr>\n",
       "    <tr>\n",
       "      <th>19</th>\n",
       "      <td>sqft_lot15</td>\n",
       "      <td>871200.00</td>\n",
       "      <td>651.00</td>\n",
       "      <td>12768.46</td>\n",
       "      <td>7620.00</td>\n",
       "      <td>27303.55</td>\n",
       "    </tr>\n",
       "  </tbody>\n",
       "</table>\n",
       "</div>"
      ],
      "text/plain": [
       "       attributes        maximo    minimum          mean        median  \\\n",
       "0              id 9900000190.00 1000102.00 4580301520.86 3904930410.00   \n",
       "1           price    7700000.00   75000.00     540088.14     450000.00   \n",
       "2        bedrooms         33.00       0.00          3.37          3.00   \n",
       "3       bathrooms          8.00       0.00          2.11          2.25   \n",
       "4     sqft_living      13540.00     290.00       2079.90       1910.00   \n",
       "5        sqft_lot    1651359.00     520.00      15106.97       7618.00   \n",
       "6          floors          3.50       1.00          1.49          1.50   \n",
       "7      waterfront          1.00       0.00          0.01          0.00   \n",
       "8            view          4.00       0.00          0.23          0.00   \n",
       "9       condition          5.00       1.00          3.41          3.00   \n",
       "10          grade         13.00       1.00          7.66          7.00   \n",
       "11     sqft_above       9410.00     290.00       1788.39       1560.00   \n",
       "12  sqft_basement       4820.00       0.00        291.51          0.00   \n",
       "13       yr_built       2015.00    1900.00       1971.01       1975.00   \n",
       "14   yr_renovated       2015.00       0.00         84.40          0.00   \n",
       "15        zipcode      98199.00   98001.00      98077.94      98065.00   \n",
       "16            lat         47.78      47.16         47.56         47.57   \n",
       "17           long       -121.31    -122.52       -122.21       -122.23   \n",
       "18  sqft_living15       6210.00     399.00       1986.55       1840.00   \n",
       "19     sqft_lot15     871200.00     651.00      12768.46       7620.00   \n",
       "\n",
       "             std  \n",
       "0  2876499023.43  \n",
       "1      367118.70  \n",
       "2           0.93  \n",
       "3           0.77  \n",
       "4         918.42  \n",
       "5       41419.55  \n",
       "6           0.54  \n",
       "7           0.09  \n",
       "8           0.77  \n",
       "9           0.65  \n",
       "10          1.18  \n",
       "11        828.07  \n",
       "12        442.56  \n",
       "13         29.37  \n",
       "14        401.67  \n",
       "15         53.50  \n",
       "16          0.14  \n",
       "17          0.14  \n",
       "18        685.38  \n",
       "19      27303.55  "
      ]
     },
     "metadata": {},
     "output_type": "display_data"
    },
    {
     "name": "stdout",
     "output_type": "stream",
     "text": [
      "Number of rows: 20 \n",
      "Number of columns: 6\n"
     ]
    }
   ],
   "source": [
    "num_attributes = data.select_dtypes(include=['int64', 'float64'])\n",
    "\n",
    "# central tendency - media, mediana\n",
    "mean = pd.DataFrame( num_attributes.apply( np.mean, axis=0 ) )\n",
    "median = pd.DataFrame( num_attributes.apply( np.median, axis=0 ) )\n",
    "\n",
    "# dispersion - std, min, max\n",
    "std = pd.DataFrame( num_attributes.apply( np.std, axis=0 ) )\n",
    "min_ = pd.DataFrame( num_attributes.apply( np.min, axis=0 ) )\n",
    "max_ = pd.DataFrame( num_attributes.apply( np.max, axis=0 ) )\n",
    "\n",
    "# concatenate metrics\n",
    "df1 = pd.concat( [max_, min_, mean, median, std], axis=1 ).reset_index()\n",
    "df1.columns = ['attributes', 'maximo', 'minimum', 'mean', 'median', 'std' ]\n",
    "\n",
    "display(df1)\n",
    "\n",
    "print(f'Number of rows: {df1.shape[0]} \\nNumber of columns: {df1.shape[1]}')"
   ]
  },
  {
   "cell_type": "markdown",
   "id": "334c30b6",
   "metadata": {},
   "source": [
    "## 1.4 Histrograms"
   ]
  },
  {
   "cell_type": "code",
   "execution_count": 57,
   "id": "68de052a",
   "metadata": {
    "ExecuteTime": {
     "end_time": "2022-01-25T18:12:04.255323Z",
     "start_time": "2022-01-25T18:12:03.476998Z"
    }
   },
   "outputs": [
    {
     "data": {
      "image/png": "[encoded data removed]",
      "text/plain": [
       "<Figure size 1440x864 with 5 Axes>"
      ]
     },
     "metadata": {
      "needs_background": "light"
     },
     "output_type": "display_data"
    }
   ],
   "source": [
    "# grid layout to subplots\n",
    "fig = plt.figure(figsize=(20,12))\n",
    "specs = gridspec.GridSpec( nrows=3, ncols=2, figure=fig )\n",
    "\n",
    "ax1 = fig.add_subplot( specs[0,:] )\n",
    "ax2 = fig.add_subplot( specs[1,0] )\n",
    "ax3 = fig.add_subplot( specs[1,1] )\n",
    "ax4 = fig.add_subplot( specs[2,0] )\n",
    "ax5 = fig.add_subplot( specs[2,1] )\n",
    "\n",
    "# houses per bedrooms\n",
    "ax1.hist( x='bedrooms', bins=19, data=num_attributes);\n",
    "\n",
    "# houses per bathrooms\n",
    "ax2.hist( x='bathrooms', bins=10, data=num_attributes );\n",
    "\n",
    "# houses per floors\n",
    "ax3.hist( x='floors', bins=5, data=num_attributes );\n",
    "\n",
    "# houses per condition\n",
    "ax4.hist( x='condition', bins=5, data=num_attributes );\n",
    "\n",
    "# houses per waterview\n",
    "ax5.hist( x='waterfront', bins=2, data=num_attributes );"
   ]
  },
  {
   "cell_type": "markdown",
   "id": "68500e1d",
   "metadata": {},
   "source": [
    "## 1.5 Quartiles"
   ]
  },
  {
   "cell_type": "code",
   "execution_count": 53,
   "id": "7cc4094d",
   "metadata": {
    "ExecuteTime": {
     "end_time": "2022-01-25T18:10:23.626016Z",
     "start_time": "2022-01-25T18:10:23.511566Z"
    }
   },
   "outputs": [
    {
     "name": "stdout",
     "output_type": "stream",
     "text": [
      "[321950.0, 450000.0, 645000.0]\n"
     ]
    }
   ],
   "source": [
    "# price quartile\n",
    "quart = list(data['price'].quantile([0.25, 0.5, 0.75])) \n",
    "print( quart )"
   ]
  },
  {
   "cell_type": "markdown",
   "id": "ed47b729",
   "metadata": {
    "ExecuteTime": {
     "end_time": "2022-01-25T13:57:51.049225Z",
     "start_time": "2022-01-25T13:57:51.045222Z"
    }
   },
   "source": [
    "# 2.0 Feature Engineering"
   ]
  },
  {
   "cell_type": "markdown",
   "id": "817f3ff4",
   "metadata": {},
   "source": [
    "## 2.1 Change Data Type"
   ]
  },
  {
   "cell_type": "code",
   "execution_count": 63,
   "id": "12fc22d8",
   "metadata": {
    "ExecuteTime": {
     "end_time": "2022-01-25T18:49:20.192951Z",
     "start_time": "2022-01-25T18:49:20.147168Z"
    }
   },
   "outputs": [],
   "source": [
    "data['date'] = pd.to_datetime( data['date'] )"
   ]
  },
  {
   "cell_type": "markdown",
   "id": "0534d2d4",
   "metadata": {},
   "source": [
    "## 2.2 New Data Columns"
   ]
  },
  {
   "cell_type": "code",
   "execution_count": 76,
   "id": "9164c24b",
   "metadata": {
    "ExecuteTime": {
     "end_time": "2022-01-25T18:56:38.040021Z",
     "start_time": "2022-01-25T18:56:37.577074Z"
    }
   },
   "outputs": [],
   "source": [
    "data['year'] = pd.to_datetime( data['date'] ).dt.year\n",
    "data['year_month'] = pd.to_datetime( data['date'] ).dt.strftime( '%Y-%m' )\n",
    "data['year_week'] = pd.to_datetime( data['date'] ).dt.strftime( '%Y-%U' )\n",
    "data['month'] = pd.to_datetime( data['date'] ).dt.month"
   ]
  },
  {
   "cell_type": "markdown",
   "id": "26688801",
   "metadata": {},
   "source": [
    "## 2.3 Waterfront Categorical Column"
   ]
  },
  {
   "cell_type": "code",
   "execution_count": 77,
   "id": "9eb6b326",
   "metadata": {
    "ExecuteTime": {
     "end_time": "2022-01-25T19:01:24.897489Z",
     "start_time": "2022-01-25T19:01:24.876496Z"
    }
   },
   "outputs": [],
   "source": [
    "data['is_waterfront'] = data['waterfront'].apply(  lambda x: 'no' if x == 0 else 'yes')"
   ]
  },
  {
   "cell_type": "markdown",
   "id": "28a5e67c",
   "metadata": {},
   "source": [
    "## 2.4 Price Level Column"
   ]
  },
  {
   "cell_type": "code",
   "execution_count": 80,
   "id": "687e458e",
   "metadata": {
    "ExecuteTime": {
     "end_time": "2022-01-25T19:06:36.911072Z",
     "start_time": "2022-01-25T19:06:36.868577Z"
    }
   },
   "outputs": [],
   "source": [
    "quartile = list( data['price'].quantile([0.25, 0.50, 0.75]) )\n",
    "\n",
    "data['price_level'] = data['price'].apply( lambda x: 'level_one'   if x<= quartile[0] else\n",
    "                                                     'level_two'   if ( x > quartile[0] ) & ( x <= quartile[1] ) else\n",
    "                                                     'level_three' if ( x > quartile[1] ) & ( x <= quartile[2] ) else\n",
    "                                                     'level_four' )"
   ]
  },
  {
   "cell_type": "markdown",
   "id": "63615389",
   "metadata": {},
   "source": [
    "## 2.5 Condition Status"
   ]
  },
  {
   "cell_type": "code",
   "execution_count": 89,
   "id": "b1ee9922",
   "metadata": {
    "ExecuteTime": {
     "end_time": "2022-01-25T19:14:49.161801Z",
     "start_time": "2022-01-25T19:14:49.064811Z"
    }
   },
   "outputs": [],
   "source": [
    "data['status_condition'] = data['condition'].apply( lambda x: 'bad'     if x <= 2 else\n",
    "                                                              'regular' if x == 3 else\n",
    "                                                              'good'    if x == 4 else\n",
    "                                                              'excelent')"
   ]
  },
  {
   "cell_type": "markdown",
   "id": "a4c5c5b7",
   "metadata": {},
   "source": [
    "## 2.6 Renovated Status"
   ]
  },
  {
   "cell_type": "code",
   "execution_count": 90,
   "id": "5c33936e",
   "metadata": {
    "ExecuteTime": {
     "end_time": "2022-01-25T19:16:36.058909Z",
     "start_time": "2022-01-25T19:16:36.033893Z"
    }
   },
   "outputs": [],
   "source": [
    "data['renovated'] = data['yr_renovated'].apply( lambda x: 'no' if x == 0 else 'yes' )"
   ]
  },
  {
   "cell_type": "markdown",
   "id": "8d7e9a25",
   "metadata": {},
   "source": [
    "## 2.7 Price per Lot Size"
   ]
  },
  {
   "cell_type": "code",
   "execution_count": 91,
   "id": "7f69939b",
   "metadata": {
    "ExecuteTime": {
     "end_time": "2022-01-25T19:18:17.798214Z",
     "start_time": "2022-01-25T19:18:17.752214Z"
    }
   },
   "outputs": [],
   "source": [
    "data['price/sqft_lot'] = data['price']/data['sqft_lot']"
   ]
  },
  {
   "cell_type": "markdown",
   "id": "a152dad4",
   "metadata": {
    "ExecuteTime": {
     "end_time": "2022-01-25T13:57:23.737807Z",
     "start_time": "2022-01-25T13:57:23.732810Z"
    }
   },
   "source": [
    "# 3.0 Data Filtering"
   ]
  },
  {
   "cell_type": "markdown",
   "id": "e6cdc61a",
   "metadata": {},
   "source": [
    "## 3.1 Check NA"
   ]
  },
  {
   "cell_type": "code",
   "execution_count": 92,
   "id": "9047e934",
   "metadata": {
    "ExecuteTime": {
     "end_time": "2022-01-25T19:34:58.689687Z",
     "start_time": "2022-01-25T19:34:58.631683Z"
    }
   },
   "outputs": [
    {
     "data": {
      "text/plain": [
       "id                  0\n",
       "date                0\n",
       "price               0\n",
       "bedrooms            0\n",
       "bathrooms           0\n",
       "sqft_living         0\n",
       "sqft_lot            0\n",
       "floors              0\n",
       "waterfront          0\n",
       "view                0\n",
       "condition           0\n",
       "grade               0\n",
       "sqft_above          0\n",
       "sqft_basement       0\n",
       "yr_built            0\n",
       "yr_renovated        0\n",
       "zipcode             0\n",
       "lat                 0\n",
       "long                0\n",
       "sqft_living15       0\n",
       "sqft_lot15          0\n",
       "year                0\n",
       "year_month          0\n",
       "year_week           0\n",
       "month               0\n",
       "is_waterfront       0\n",
       "price_level         0\n",
       "status_condition    0\n",
       "renovated           0\n",
       "price/sqft_lot      0\n",
       "dtype: int64"
      ]
     },
     "execution_count": 92,
     "metadata": {},
     "output_type": "execute_result"
    }
   ],
   "source": [
    "data.isna().sum()"
   ]
  },
  {
   "cell_type": "markdown",
   "id": "cdb24825",
   "metadata": {},
   "source": [
    "## 3.2 Fillout NA"
   ]
  },
  {
   "cell_type": "code",
   "execution_count": null,
   "id": "7b7d7691",
   "metadata": {},
   "outputs": [],
   "source": []
  },
  {
   "cell_type": "markdown",
   "id": "73fe5033",
   "metadata": {},
   "source": [
    "## 3.3 Data Filtering"
   ]
  },
  {
   "cell_type": "code",
   "execution_count": 93,
   "id": "be2ca03b",
   "metadata": {
    "ExecuteTime": {
     "end_time": "2022-01-25T19:42:24.678840Z",
     "start_time": "2022-01-25T19:42:24.625787Z"
    }
   },
   "outputs": [],
   "source": [
    "# bedrooms\n",
    "data = data[ data['bedrooms'] != 33 ]"
   ]
  },
  {
   "cell_type": "markdown",
   "id": "90184ce8",
   "metadata": {},
   "source": [
    "## 3.4 Select Columns"
   ]
  },
  {
   "cell_type": "code",
   "execution_count": 94,
   "id": "a04089e9",
   "metadata": {
    "ExecuteTime": {
     "end_time": "2022-01-25T19:42:25.849509Z",
     "start_time": "2022-01-25T19:42:25.741284Z"
    }
   },
   "outputs": [],
   "source": [
    "# grade\n",
    "data = data.drop( columns='grade')\n",
    "\n",
    "# sqft_above\n",
    "data = data.drop( columns='sqft_above')\n",
    "\n",
    "# sqft_living15\n",
    "data = data.drop( columns='sqft_living15')\n",
    "\n",
    "# sqft_lot15\n",
    "data = data.drop( columns='sqft_lot15' )"
   ]
  },
  {
   "cell_type": "markdown",
   "id": "9c39a282",
   "metadata": {
    "ExecuteTime": {
     "end_time": "2022-01-25T13:57:05.052710Z",
     "start_time": "2022-01-25T13:57:05.044711Z"
    }
   },
   "source": [
    "# 4.0 Data Exploratory Analysis"
   ]
  },
  {
   "cell_type": "code",
   "execution_count": null,
   "id": "360e7f38",
   "metadata": {},
   "outputs": [],
   "source": []
  },
  {
   "cell_type": "markdown",
   "id": "d4628b80",
   "metadata": {
    "ExecuteTime": {
     "end_time": "2022-01-25T13:57:33.536780Z",
     "start_time": "2022-01-25T13:57:33.532840Z"
    }
   },
   "source": [
    "# 5.0 Data Transform"
   ]
  },
  {
   "cell_type": "code",
   "execution_count": null,
   "id": "a98be440",
   "metadata": {},
   "outputs": [],
   "source": []
  },
  {
   "cell_type": "code",
   "execution_count": null,
   "id": "ac4728a4",
   "metadata": {},
   "outputs": [],
   "source": []
  },
  {
   "cell_type": "code",
   "execution_count": null,
   "id": "04ae3638",
   "metadata": {},
   "outputs": [],
   "source": []
  },
  {
   "cell_type": "code",
   "execution_count": null,
   "id": "0a62d4df",
   "metadata": {},
   "outputs": [],
   "source": []
  }
 ],
 "metadata": {
  "kernelspec": {
   "display_name": "Python 3 (ipykernel)",
   "language": "python",
   "name": "python3"
  },
  "language_info": {
   "codemirror_mode": {
    "name": "ipython",
    "version": 3
   },
   "file_extension": ".py",
   "mimetype": "text/x-python",
   "name": "python",
   "nbconvert_exporter": "python",
   "pygments_lexer": "ipython3",
   "version": "3.8.11"
  }
 },
 "nbformat": 4,
 "nbformat_minor": 5
}
