{
 "cells": [
  {
   "cell_type": "code",
   "execution_count": 1,
   "id": "eece7105",
   "metadata": {
    "ExecuteTime": {
     "end_time": "2021-10-21T16:14:33.420463Z",
     "start_time": "2021-10-21T16:14:31.948566Z"
    }
   },
   "outputs": [],
   "source": [
    "import pandas as pd\n",
    "import numpy as np"
   ]
  },
  {
   "cell_type": "code",
   "execution_count": 2,
   "id": "98fcabc6",
   "metadata": {
    "ExecuteTime": {
     "end_time": "2021-10-21T16:14:33.506927Z",
     "start_time": "2021-10-21T16:14:33.422432Z"
    }
   },
   "outputs": [],
   "source": [
    "data = pd.read_csv( '../Datasets/kc_house_data.csv' )"
   ]
  },
  {
   "cell_type": "code",
   "execution_count": 14,
   "id": "95d8fb60",
   "metadata": {
    "ExecuteTime": {
     "end_time": "2021-10-21T16:17:29.453380Z",
     "start_time": "2021-10-21T16:17:29.395534Z"
    }
   },
   "outputs": [
    {
     "name": "stdout",
     "output_type": "stream",
     "text": [
      "Number of rows: 21613\n",
      "Number of columns: 21\n",
      "       attributes        maximo     minimo         media       mediana  \\\n",
      "0              id 9900000190.00 1000102.00 4580301520.86 3904930410.00   \n",
      "1           price    7700000.00   75000.00     540088.14     450000.00   \n",
      "2        bedrooms         33.00       0.00          3.37          3.00   \n",
      "3       bathrooms          8.00       0.00          2.11          2.25   \n",
      "4     sqft_living      13540.00     290.00       2079.90       1910.00   \n",
      "5        sqft_lot    1651359.00     520.00      15106.97       7618.00   \n",
      "6          floors          3.50       1.00          1.49          1.50   \n",
      "7      waterfront          1.00       0.00          0.01          0.00   \n",
      "8            view          4.00       0.00          0.23          0.00   \n",
      "9       condition          5.00       1.00          3.41          3.00   \n",
      "10          grade         13.00       1.00          7.66          7.00   \n",
      "11     sqft_above       9410.00     290.00       1788.39       1560.00   \n",
      "12  sqft_basement       4820.00       0.00        291.51          0.00   \n",
      "13       yr_built       2015.00    1900.00       1971.01       1975.00   \n",
      "14   yr_renovated       2015.00       0.00         84.40          0.00   \n",
      "15        zipcode      98199.00   98001.00      98077.94      98065.00   \n",
      "16            lat         47.78      47.16         47.56         47.57   \n",
      "17           long       -121.31    -122.52       -122.21       -122.23   \n",
      "18  sqft_living15       6210.00     399.00       1986.55       1840.00   \n",
      "19     sqft_lot15     871200.00     651.00      12768.46       7620.00   \n",
      "\n",
      "             std  \n",
      "0  2876499023.43  \n",
      "1      367118.70  \n",
      "2           0.93  \n",
      "3           0.77  \n",
      "4         918.42  \n",
      "5       41419.55  \n",
      "6           0.54  \n",
      "7           0.09  \n",
      "8           0.77  \n",
      "9           0.65  \n",
      "10          1.18  \n",
      "11        828.07  \n",
      "12        442.56  \n",
      "13         29.37  \n",
      "14        401.67  \n",
      "15         53.50  \n",
      "16          0.14  \n",
      "17          0.14  \n",
      "18        685.38  \n",
      "19      27303.55  \n",
      "Number of rows: 20\n",
      "Number of columns: 6\n"
     ]
    }
   ],
   "source": [
    "# data dimensions\n",
    "print( 'Number of rows: {}'.format( data.shape[0] ) )\n",
    "print( 'Number of columns: {}'.format( data.shape[1] ) )\n",
    "\n",
    "# data types\n",
    "data.dtypes\n",
    "\n",
    "# convert object to date\n",
    "data['date'] = pd.to_datetime( data['date'] )\n",
    "\n",
    "#descriptive statistics\n",
    "num_attributes = data.select_dtypes( include=['int64', 'float64'] )\n",
    "\n",
    "# central tendency - media, mediana\n",
    "pd.set_option('display.float_format', lambda x: '%.2f' % x)\n",
    "media = pd.DataFrame( num_attributes.apply( np.mean, axis=0 ) )\n",
    "mediana = pd.DataFrame( num_attributes.apply( np.median, axis=0 ) )\n",
    "\n",
    "# dispersion - std, min, max\n",
    "std = pd.DataFrame( num_attributes.apply( np.std, axis=0 ) )\n",
    "min_ = pd.DataFrame( num_attributes.apply( np.min, axis=0 ) )\n",
    "max_ = pd.DataFrame( num_attributes.apply( np.max, axis=0 ) )\n",
    "\n",
    "df1 = pd.concat( [max_, min_, media, mediana, std], axis=1 ).reset_index()\n",
    "df1.columns = ['attributes', 'maximo', 'minimo', 'media', 'mediana', 'std']\n",
    "\n",
    "print(df1)\n",
    "\n",
    "# data dimensions\n",
    "print( 'Number of rows: {}'.format( df1.shape[0] ) )\n",
    "print( 'Number of columns: {}'.format( df1.shape[1] ) )"
   ]
  },
  {
   "cell_type": "code",
   "execution_count": null,
   "id": "b18e917c",
   "metadata": {},
   "outputs": [],
   "source": []
  },
  {
   "cell_type": "code",
   "execution_count": null,
   "id": "c9eca554",
   "metadata": {},
   "outputs": [],
   "source": []
  },
  {
   "cell_type": "code",
   "execution_count": null,
   "id": "b1672ca2",
   "metadata": {},
   "outputs": [],
   "source": []
  }
 ],
 "metadata": {
  "kernelspec": {
   "display_name": "Python 3 (ipykernel)",
   "language": "python",
   "name": "python3"
  },
  "language_info": {
   "codemirror_mode": {
    "name": "ipython",
    "version": 3
   },
   "file_extension": ".py",
   "mimetype": "text/x-python",
   "name": "python",
   "nbconvert_exporter": "python",
   "pygments_lexer": "ipython3",
   "version": "3.8.11"
  }
 },
 "nbformat": 4,
 "nbformat_minor": 5
}
